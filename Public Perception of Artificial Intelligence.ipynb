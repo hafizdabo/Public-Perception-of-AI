{
 "cells": [
  {
   "cell_type": "markdown",
   "id": "15200604",
   "metadata": {},
   "source": [
    "# Project: Public Perception of AI by Team Hadoop\n",
    "\n",
    "## Table of Contents\n",
    "\n",
    "<ul>\n",
    "<li><a href=\"#intro\">Introduction</a></li>\n",
    "<li><a href=\"#wrangling\">Data Wrangling</a></li>\n",
    "<li><a href=\"#eda\">Exploratory Data Analysis</a></li>\n",
    "<li><a href=\"#sentiment\">Sentiment Analysis</a></li>\n",
    "<li><a href=\"#model\">Hypothesis testing and Modeling</a></li>\n",
    "<li><a href=\"#conclusions\">Conclusions</a></li>\n",
    "</ul>"
   ]
  },
  {
   "cell_type": "markdown",
   "id": "d496077e",
   "metadata": {},
   "source": [
    "<a id='intro'></a>\n",
    "## Introduction\n",
    "\n",
    "It is undeniable that Artificial Intelligence is one of the most rapidly developing fields in computer science, and with all of its connotations and implications, the public's view of Artificial Intelligence is extremely important.\n",
    "\n",
    "Is Artificial Intelligence dangerous? Will it destroy humanity? Will it send humanity into a golden age? These are all questions that people tend to think about when they hear the word 'AI', and the answers to these questions are currently unknown. What is known is that all of these questions have yes as a possible answer. AI could destroy humanity, and AI could save humanity. \n",
    "\n",
    "AI could also fizzle out and reveal itself to be an impossible problem to solve. At the moment, it’s impossible to say what will happen, but at best, it’s mysterious. The problem of AI carries numerous important questions that touch on some of the most important questions for a person, most notably, what even constitutes consciousness? With these implications, it’s no wonder AI has captured the public interest.\n",
    "\n",
    "If you would like to get the dataset used, it is hosted on this <a href=\"https://github.com/ababayato/Team-Hadoop-HDSC-Summer-22-Capstone-Project\">GitHub</a> page along with an .ipnyb of this file."
   ]
  },
  {
   "cell_type": "code",
   "execution_count": 1,
   "id": "bcd21092",
   "metadata": {},
   "outputs": [],
   "source": [
    "# Importing the libraries\n",
    "import pandas as pd\n",
    "import numpy as np\n",
    "import matplotlib.pyplot as plt\n",
    "import datetime\n",
    "\n",
    "from sklearn.tree import DecisionTreeClassifier\n",
    "from sklearn.model_selection import train_test_split, RandomizedSearchCV\n",
    "from sklearn.neighbors import KNeighborsClassifier\n",
    "\n",
    "%matplotlib inline"
   ]
  },
  {
   "cell_type": "markdown",
   "id": "d8223d7b",
   "metadata": {},
   "source": [
    "<a id='wrangling'></a>\n",
    "## Data Wrangling"
   ]
  },
  {
   "cell_type": "code",
   "execution_count": 2,
   "id": "bc483327",
   "metadata": {},
   "outputs": [],
   "source": [
    "df = pd.read_csv('robot-ai-all-public.csv')"
   ]
  },
  {
   "cell_type": "code",
   "execution_count": 3,
   "id": "da932ba1",
   "metadata": {
    "scrolled": true
   },
   "outputs": [
    {
     "data": {
      "text/html": [
       "<div>\n",
       "<style scoped>\n",
       "    .dataframe tbody tr th:only-of-type {\n",
       "        vertical-align: middle;\n",
       "    }\n",
       "\n",
       "    .dataframe tbody tr th {\n",
       "        vertical-align: top;\n",
       "    }\n",
       "\n",
       "    .dataframe thead th {\n",
       "        text-align: right;\n",
       "    }\n",
       "</style>\n",
       "<table border=\"1\" class=\"dataframe\">\n",
       "  <thead>\n",
       "    <tr style=\"text-align: right;\">\n",
       "      <th></th>\n",
       "      <th>Article ID</th>\n",
       "      <th>Article Date</th>\n",
       "      <th>Paragraph number</th>\n",
       "      <th>NYT section</th>\n",
       "      <th>Paragraph</th>\n",
       "      <th>Title</th>\n",
       "      <th>WorkTimeInSeconds</th>\n",
       "      <th>AI Mood</th>\n",
       "      <th>AI Relevance</th>\n",
       "      <th>Fiction</th>\n",
       "      <th>...</th>\n",
       "      <th>Other (negative)</th>\n",
       "      <th>Cyborg (positive)</th>\n",
       "      <th>Decisions (positive)</th>\n",
       "      <th>Education (positive)</th>\n",
       "      <th>Entertain (positive)</th>\n",
       "      <th>Healthcare (positive)</th>\n",
       "      <th>Singularity (positive)</th>\n",
       "      <th>Transportation (positive)</th>\n",
       "      <th>Work (positive)</th>\n",
       "      <th>Other (positive)</th>\n",
       "    </tr>\n",
       "  </thead>\n",
       "  <tbody>\n",
       "    <tr>\n",
       "      <th>0</th>\n",
       "      <td>4fd1cbc98eb7c8105d701286</td>\n",
       "      <td>1996-10-06 00:00:00 UTC</td>\n",
       "      <td>18</td>\n",
       "      <td>New York and Region</td>\n",
       "      <td>Thus, next weekend will feature the robot who ...</td>\n",
       "      <td>LONG ISLAND JOURNAL</td>\n",
       "      <td>1472</td>\n",
       "      <td>4</td>\n",
       "      <td>5</td>\n",
       "      <td>0</td>\n",
       "      <td>...</td>\n",
       "      <td>{}</td>\n",
       "      <td>0</td>\n",
       "      <td>0</td>\n",
       "      <td>0</td>\n",
       "      <td>0</td>\n",
       "      <td>0</td>\n",
       "      <td>0</td>\n",
       "      <td>0</td>\n",
       "      <td>0</td>\n",
       "      <td>{}</td>\n",
       "    </tr>\n",
       "    <tr>\n",
       "      <th>1</th>\n",
       "      <td>4fd1cbc98eb7c8105d701286</td>\n",
       "      <td>1996-10-06 00:00:00 UTC</td>\n",
       "      <td>18</td>\n",
       "      <td>New York and Region</td>\n",
       "      <td>Thus, next weekend will feature the robot who ...</td>\n",
       "      <td>LONG ISLAND JOURNAL</td>\n",
       "      <td>49</td>\n",
       "      <td>4</td>\n",
       "      <td>5</td>\n",
       "      <td>0</td>\n",
       "      <td>...</td>\n",
       "      <td>{}</td>\n",
       "      <td>0</td>\n",
       "      <td>0</td>\n",
       "      <td>0</td>\n",
       "      <td>0</td>\n",
       "      <td>0</td>\n",
       "      <td>0</td>\n",
       "      <td>0</td>\n",
       "      <td>0</td>\n",
       "      <td>{}</td>\n",
       "    </tr>\n",
       "    <tr>\n",
       "      <th>2</th>\n",
       "      <td>4fd1cbc98eb7c8105d701286</td>\n",
       "      <td>1996-10-06 00:00:00 UTC</td>\n",
       "      <td>18</td>\n",
       "      <td>New York and Region</td>\n",
       "      <td>Thus, next weekend will feature the robot who ...</td>\n",
       "      <td>LONG ISLAND JOURNAL</td>\n",
       "      <td>66</td>\n",
       "      <td>5</td>\n",
       "      <td>5</td>\n",
       "      <td>0</td>\n",
       "      <td>...</td>\n",
       "      <td>{}</td>\n",
       "      <td>0</td>\n",
       "      <td>0</td>\n",
       "      <td>0</td>\n",
       "      <td>1</td>\n",
       "      <td>0</td>\n",
       "      <td>0</td>\n",
       "      <td>0</td>\n",
       "      <td>0</td>\n",
       "      <td>{}</td>\n",
       "    </tr>\n",
       "    <tr>\n",
       "      <th>3</th>\n",
       "      <td>54b0793b7988100e21965770</td>\n",
       "      <td>2006-07-31 00:00:00 UTC</td>\n",
       "      <td>16</td>\n",
       "      <td>Technology</td>\n",
       "      <td>That phrase was coined in the 1970۪s by Masahi...</td>\n",
       "      <td>Camera System Creates Sophisticated 3-D Effects</td>\n",
       "      <td>3053</td>\n",
       "      <td>3</td>\n",
       "      <td>4</td>\n",
       "      <td>0</td>\n",
       "      <td>...</td>\n",
       "      <td>{}</td>\n",
       "      <td>0</td>\n",
       "      <td>0</td>\n",
       "      <td>0</td>\n",
       "      <td>0</td>\n",
       "      <td>0</td>\n",
       "      <td>0</td>\n",
       "      <td>0</td>\n",
       "      <td>0</td>\n",
       "      <td>{}</td>\n",
       "    </tr>\n",
       "    <tr>\n",
       "      <th>4</th>\n",
       "      <td>54b0793b7988100e21965770</td>\n",
       "      <td>2006-07-31 00:00:00 UTC</td>\n",
       "      <td>16</td>\n",
       "      <td>Technology</td>\n",
       "      <td>That phrase was coined in the 1970۪s by Masahi...</td>\n",
       "      <td>Camera System Creates Sophisticated 3-D Effects</td>\n",
       "      <td>25</td>\n",
       "      <td>3</td>\n",
       "      <td>4</td>\n",
       "      <td>0</td>\n",
       "      <td>...</td>\n",
       "      <td>{}</td>\n",
       "      <td>0</td>\n",
       "      <td>0</td>\n",
       "      <td>0</td>\n",
       "      <td>0</td>\n",
       "      <td>0</td>\n",
       "      <td>0</td>\n",
       "      <td>0</td>\n",
       "      <td>0</td>\n",
       "      <td>{}</td>\n",
       "    </tr>\n",
       "  </tbody>\n",
       "</table>\n",
       "<p>5 rows × 27 columns</p>\n",
       "</div>"
      ],
      "text/plain": [
       "                 Article ID             Article Date Paragraph number  \\\n",
       "0  4fd1cbc98eb7c8105d701286  1996-10-06 00:00:00 UTC               18   \n",
       "1  4fd1cbc98eb7c8105d701286  1996-10-06 00:00:00 UTC               18   \n",
       "2  4fd1cbc98eb7c8105d701286  1996-10-06 00:00:00 UTC               18   \n",
       "3  54b0793b7988100e21965770  2006-07-31 00:00:00 UTC               16   \n",
       "4  54b0793b7988100e21965770  2006-07-31 00:00:00 UTC               16   \n",
       "\n",
       "           NYT section                                          Paragraph  \\\n",
       "0  New York and Region  Thus, next weekend will feature the robot who ...   \n",
       "1  New York and Region  Thus, next weekend will feature the robot who ...   \n",
       "2  New York and Region  Thus, next weekend will feature the robot who ...   \n",
       "3           Technology  That phrase was coined in the 1970۪s by Masahi...   \n",
       "4           Technology  That phrase was coined in the 1970۪s by Masahi...   \n",
       "\n",
       "                                             Title  WorkTimeInSeconds  \\\n",
       "0                              LONG ISLAND JOURNAL               1472   \n",
       "1                              LONG ISLAND JOURNAL                 49   \n",
       "2                              LONG ISLAND JOURNAL                 66   \n",
       "3  Camera System Creates Sophisticated 3-D Effects               3053   \n",
       "4  Camera System Creates Sophisticated 3-D Effects                 25   \n",
       "\n",
       "   AI Mood  AI Relevance  Fiction  ...  Other (negative)  Cyborg (positive)  \\\n",
       "0        4             5        0  ...                {}                  0   \n",
       "1        4             5        0  ...                {}                  0   \n",
       "2        5             5        0  ...                {}                  0   \n",
       "3        3             4        0  ...                {}                  0   \n",
       "4        3             4        0  ...                {}                  0   \n",
       "\n",
       "   Decisions (positive)  Education (positive)  Entertain (positive)  \\\n",
       "0                     0                     0                     0   \n",
       "1                     0                     0                     0   \n",
       "2                     0                     0                     1   \n",
       "3                     0                     0                     0   \n",
       "4                     0                     0                     0   \n",
       "\n",
       "   Healthcare (positive)  Singularity (positive) Transportation (positive)  \\\n",
       "0                      0                       0                         0   \n",
       "1                      0                       0                         0   \n",
       "2                      0                       0                         0   \n",
       "3                      0                       0                         0   \n",
       "4                      0                       0                         0   \n",
       "\n",
       "   Work (positive)  Other (positive)  \n",
       "0                0                {}  \n",
       "1                0                {}  \n",
       "2                0                {}  \n",
       "3                0                {}  \n",
       "4                0                {}  \n",
       "\n",
       "[5 rows x 27 columns]"
      ]
     },
     "execution_count": 3,
     "metadata": {},
     "output_type": "execute_result"
    }
   ],
   "source": [
    "df.head()"
   ]
  },
  {
   "cell_type": "code",
   "execution_count": 4,
   "id": "4dd17e8d",
   "metadata": {},
   "outputs": [
    {
     "data": {
      "text/html": [
       "<div>\n",
       "<style scoped>\n",
       "    .dataframe tbody tr th:only-of-type {\n",
       "        vertical-align: middle;\n",
       "    }\n",
       "\n",
       "    .dataframe tbody tr th {\n",
       "        vertical-align: top;\n",
       "    }\n",
       "\n",
       "    .dataframe thead th {\n",
       "        text-align: right;\n",
       "    }\n",
       "</style>\n",
       "<table border=\"1\" class=\"dataframe\">\n",
       "  <thead>\n",
       "    <tr style=\"text-align: right;\">\n",
       "      <th></th>\n",
       "      <th>WorkTimeInSeconds</th>\n",
       "      <th>AI Mood</th>\n",
       "      <th>AI Relevance</th>\n",
       "      <th>Fiction</th>\n",
       "      <th>Controling AI (negative)</th>\n",
       "      <th>Cyborg (negative)</th>\n",
       "      <th>Ethics (negative)</th>\n",
       "      <th>Military (negative)</th>\n",
       "      <th>Progress (negative)</th>\n",
       "      <th>Singularity (negative)</th>\n",
       "      <th>Work (negative)</th>\n",
       "      <th>Cyborg (positive)</th>\n",
       "      <th>Decisions (positive)</th>\n",
       "      <th>Education (positive)</th>\n",
       "      <th>Entertain (positive)</th>\n",
       "      <th>Healthcare (positive)</th>\n",
       "      <th>Singularity (positive)</th>\n",
       "      <th>Transportation (positive)</th>\n",
       "      <th>Work (positive)</th>\n",
       "    </tr>\n",
       "  </thead>\n",
       "  <tbody>\n",
       "    <tr>\n",
       "      <th>count</th>\n",
       "      <td>17073.000000</td>\n",
       "      <td>17073.000000</td>\n",
       "      <td>17073.000000</td>\n",
       "      <td>17073.000000</td>\n",
       "      <td>17073.000000</td>\n",
       "      <td>17073.000000</td>\n",
       "      <td>17073.000000</td>\n",
       "      <td>17073.000000</td>\n",
       "      <td>17073.000000</td>\n",
       "      <td>17073.000000</td>\n",
       "      <td>17073.000000</td>\n",
       "      <td>17073.000000</td>\n",
       "      <td>17073.000000</td>\n",
       "      <td>17073.000000</td>\n",
       "      <td>17073.000000</td>\n",
       "      <td>17073.000000</td>\n",
       "      <td>17073.000000</td>\n",
       "      <td>17073.000000</td>\n",
       "      <td>17073.000000</td>\n",
       "    </tr>\n",
       "    <tr>\n",
       "      <th>mean</th>\n",
       "      <td>344.593510</td>\n",
       "      <td>3.266620</td>\n",
       "      <td>3.847596</td>\n",
       "      <td>0.078018</td>\n",
       "      <td>0.024015</td>\n",
       "      <td>0.003924</td>\n",
       "      <td>0.007556</td>\n",
       "      <td>0.013120</td>\n",
       "      <td>0.025655</td>\n",
       "      <td>0.008610</td>\n",
       "      <td>0.014174</td>\n",
       "      <td>0.011773</td>\n",
       "      <td>0.041469</td>\n",
       "      <td>0.020032</td>\n",
       "      <td>0.048615</td>\n",
       "      <td>0.028115</td>\n",
       "      <td>0.007907</td>\n",
       "      <td>0.036022</td>\n",
       "      <td>0.049376</td>\n",
       "    </tr>\n",
       "    <tr>\n",
       "      <th>std</th>\n",
       "      <td>449.418006</td>\n",
       "      <td>0.809979</td>\n",
       "      <td>1.255154</td>\n",
       "      <td>0.268208</td>\n",
       "      <td>0.153099</td>\n",
       "      <td>0.062523</td>\n",
       "      <td>0.086598</td>\n",
       "      <td>0.113793</td>\n",
       "      <td>0.158107</td>\n",
       "      <td>0.092393</td>\n",
       "      <td>0.118213</td>\n",
       "      <td>0.107866</td>\n",
       "      <td>0.199378</td>\n",
       "      <td>0.140112</td>\n",
       "      <td>0.215068</td>\n",
       "      <td>0.165305</td>\n",
       "      <td>0.088573</td>\n",
       "      <td>0.186350</td>\n",
       "      <td>0.216659</td>\n",
       "    </tr>\n",
       "    <tr>\n",
       "      <th>min</th>\n",
       "      <td>6.000000</td>\n",
       "      <td>1.000000</td>\n",
       "      <td>1.000000</td>\n",
       "      <td>0.000000</td>\n",
       "      <td>0.000000</td>\n",
       "      <td>0.000000</td>\n",
       "      <td>0.000000</td>\n",
       "      <td>0.000000</td>\n",
       "      <td>0.000000</td>\n",
       "      <td>0.000000</td>\n",
       "      <td>0.000000</td>\n",
       "      <td>0.000000</td>\n",
       "      <td>0.000000</td>\n",
       "      <td>0.000000</td>\n",
       "      <td>0.000000</td>\n",
       "      <td>0.000000</td>\n",
       "      <td>0.000000</td>\n",
       "      <td>0.000000</td>\n",
       "      <td>0.000000</td>\n",
       "    </tr>\n",
       "    <tr>\n",
       "      <th>25%</th>\n",
       "      <td>51.000000</td>\n",
       "      <td>3.000000</td>\n",
       "      <td>3.000000</td>\n",
       "      <td>0.000000</td>\n",
       "      <td>0.000000</td>\n",
       "      <td>0.000000</td>\n",
       "      <td>0.000000</td>\n",
       "      <td>0.000000</td>\n",
       "      <td>0.000000</td>\n",
       "      <td>0.000000</td>\n",
       "      <td>0.000000</td>\n",
       "      <td>0.000000</td>\n",
       "      <td>0.000000</td>\n",
       "      <td>0.000000</td>\n",
       "      <td>0.000000</td>\n",
       "      <td>0.000000</td>\n",
       "      <td>0.000000</td>\n",
       "      <td>0.000000</td>\n",
       "      <td>0.000000</td>\n",
       "    </tr>\n",
       "    <tr>\n",
       "      <th>50%</th>\n",
       "      <td>172.000000</td>\n",
       "      <td>3.000000</td>\n",
       "      <td>4.000000</td>\n",
       "      <td>0.000000</td>\n",
       "      <td>0.000000</td>\n",
       "      <td>0.000000</td>\n",
       "      <td>0.000000</td>\n",
       "      <td>0.000000</td>\n",
       "      <td>0.000000</td>\n",
       "      <td>0.000000</td>\n",
       "      <td>0.000000</td>\n",
       "      <td>0.000000</td>\n",
       "      <td>0.000000</td>\n",
       "      <td>0.000000</td>\n",
       "      <td>0.000000</td>\n",
       "      <td>0.000000</td>\n",
       "      <td>0.000000</td>\n",
       "      <td>0.000000</td>\n",
       "      <td>0.000000</td>\n",
       "    </tr>\n",
       "    <tr>\n",
       "      <th>75%</th>\n",
       "      <td>462.000000</td>\n",
       "      <td>4.000000</td>\n",
       "      <td>5.000000</td>\n",
       "      <td>0.000000</td>\n",
       "      <td>0.000000</td>\n",
       "      <td>0.000000</td>\n",
       "      <td>0.000000</td>\n",
       "      <td>0.000000</td>\n",
       "      <td>0.000000</td>\n",
       "      <td>0.000000</td>\n",
       "      <td>0.000000</td>\n",
       "      <td>0.000000</td>\n",
       "      <td>0.000000</td>\n",
       "      <td>0.000000</td>\n",
       "      <td>0.000000</td>\n",
       "      <td>0.000000</td>\n",
       "      <td>0.000000</td>\n",
       "      <td>0.000000</td>\n",
       "      <td>0.000000</td>\n",
       "    </tr>\n",
       "    <tr>\n",
       "      <th>max</th>\n",
       "      <td>3521.000000</td>\n",
       "      <td>5.000000</td>\n",
       "      <td>5.000000</td>\n",
       "      <td>1.000000</td>\n",
       "      <td>1.000000</td>\n",
       "      <td>1.000000</td>\n",
       "      <td>1.000000</td>\n",
       "      <td>1.000000</td>\n",
       "      <td>1.000000</td>\n",
       "      <td>1.000000</td>\n",
       "      <td>1.000000</td>\n",
       "      <td>1.000000</td>\n",
       "      <td>1.000000</td>\n",
       "      <td>1.000000</td>\n",
       "      <td>1.000000</td>\n",
       "      <td>1.000000</td>\n",
       "      <td>1.000000</td>\n",
       "      <td>1.000000</td>\n",
       "      <td>1.000000</td>\n",
       "    </tr>\n",
       "  </tbody>\n",
       "</table>\n",
       "</div>"
      ],
      "text/plain": [
       "       WorkTimeInSeconds       AI Mood  AI Relevance       Fiction  \\\n",
       "count       17073.000000  17073.000000  17073.000000  17073.000000   \n",
       "mean          344.593510      3.266620      3.847596      0.078018   \n",
       "std           449.418006      0.809979      1.255154      0.268208   \n",
       "min             6.000000      1.000000      1.000000      0.000000   \n",
       "25%            51.000000      3.000000      3.000000      0.000000   \n",
       "50%           172.000000      3.000000      4.000000      0.000000   \n",
       "75%           462.000000      4.000000      5.000000      0.000000   \n",
       "max          3521.000000      5.000000      5.000000      1.000000   \n",
       "\n",
       "       Controling AI (negative)  Cyborg (negative)  Ethics (negative)  \\\n",
       "count              17073.000000       17073.000000       17073.000000   \n",
       "mean                   0.024015           0.003924           0.007556   \n",
       "std                    0.153099           0.062523           0.086598   \n",
       "min                    0.000000           0.000000           0.000000   \n",
       "25%                    0.000000           0.000000           0.000000   \n",
       "50%                    0.000000           0.000000           0.000000   \n",
       "75%                    0.000000           0.000000           0.000000   \n",
       "max                    1.000000           1.000000           1.000000   \n",
       "\n",
       "       Military (negative)  Progress (negative)  Singularity (negative)  \\\n",
       "count         17073.000000         17073.000000            17073.000000   \n",
       "mean              0.013120             0.025655                0.008610   \n",
       "std               0.113793             0.158107                0.092393   \n",
       "min               0.000000             0.000000                0.000000   \n",
       "25%               0.000000             0.000000                0.000000   \n",
       "50%               0.000000             0.000000                0.000000   \n",
       "75%               0.000000             0.000000                0.000000   \n",
       "max               1.000000             1.000000                1.000000   \n",
       "\n",
       "       Work (negative)  Cyborg (positive)  Decisions (positive)  \\\n",
       "count     17073.000000       17073.000000          17073.000000   \n",
       "mean          0.014174           0.011773              0.041469   \n",
       "std           0.118213           0.107866              0.199378   \n",
       "min           0.000000           0.000000              0.000000   \n",
       "25%           0.000000           0.000000              0.000000   \n",
       "50%           0.000000           0.000000              0.000000   \n",
       "75%           0.000000           0.000000              0.000000   \n",
       "max           1.000000           1.000000              1.000000   \n",
       "\n",
       "       Education (positive)  Entertain (positive)  Healthcare (positive)  \\\n",
       "count          17073.000000          17073.000000           17073.000000   \n",
       "mean               0.020032              0.048615               0.028115   \n",
       "std                0.140112              0.215068               0.165305   \n",
       "min                0.000000              0.000000               0.000000   \n",
       "25%                0.000000              0.000000               0.000000   \n",
       "50%                0.000000              0.000000               0.000000   \n",
       "75%                0.000000              0.000000               0.000000   \n",
       "max                1.000000              1.000000               1.000000   \n",
       "\n",
       "       Singularity (positive)  Transportation (positive)  Work (positive)  \n",
       "count            17073.000000               17073.000000     17073.000000  \n",
       "mean                 0.007907                   0.036022         0.049376  \n",
       "std                  0.088573                   0.186350         0.216659  \n",
       "min                  0.000000                   0.000000         0.000000  \n",
       "25%                  0.000000                   0.000000         0.000000  \n",
       "50%                  0.000000                   0.000000         0.000000  \n",
       "75%                  0.000000                   0.000000         0.000000  \n",
       "max                  1.000000                   1.000000         1.000000  "
      ]
     },
     "execution_count": 4,
     "metadata": {},
     "output_type": "execute_result"
    }
   ],
   "source": [
    "df.describe()"
   ]
  },
  {
   "cell_type": "code",
   "execution_count": 5,
   "id": "2588a2c7",
   "metadata": {},
   "outputs": [
    {
     "data": {
      "text/plain": [
       "(17073, 27)"
      ]
     },
     "execution_count": 5,
     "metadata": {},
     "output_type": "execute_result"
    }
   ],
   "source": [
    "df.shape"
   ]
  },
  {
   "cell_type": "code",
   "execution_count": 6,
   "id": "6335dcfe",
   "metadata": {},
   "outputs": [
    {
     "name": "stdout",
     "output_type": "stream",
     "text": [
      "<class 'pandas.core.frame.DataFrame'>\n",
      "RangeIndex: 17073 entries, 0 to 17072\n",
      "Data columns (total 27 columns):\n",
      " #   Column                     Non-Null Count  Dtype \n",
      "---  ------                     --------------  ----- \n",
      " 0   Article ID                 17073 non-null  object\n",
      " 1   Article Date               9129 non-null   object\n",
      " 2   Paragraph number           17073 non-null  object\n",
      " 3   NYT section                17061 non-null  object\n",
      " 4   Paragraph                  17061 non-null  object\n",
      " 5   Title                      17070 non-null  object\n",
      " 6   WorkTimeInSeconds          17073 non-null  int64 \n",
      " 7   AI Mood                    17073 non-null  int64 \n",
      " 8   AI Relevance               17073 non-null  int64 \n",
      " 9   Fiction                    17073 non-null  int64 \n",
      " 10  Controling AI (negative)   17073 non-null  int64 \n",
      " 11  Cyborg (negative)          17073 non-null  int64 \n",
      " 12  Ethics (negative)          17073 non-null  int64 \n",
      " 13  Military (negative)        17073 non-null  int64 \n",
      " 14  Progress (negative)        17073 non-null  int64 \n",
      " 15  Singularity (negative)     17073 non-null  int64 \n",
      " 16  Work (negative)            17073 non-null  int64 \n",
      " 17  Other (negative)           17073 non-null  object\n",
      " 18  Cyborg (positive)          17073 non-null  int64 \n",
      " 19  Decisions (positive)       17073 non-null  int64 \n",
      " 20  Education (positive)       17073 non-null  int64 \n",
      " 21  Entertain (positive)       17073 non-null  int64 \n",
      " 22  Healthcare (positive)      17073 non-null  int64 \n",
      " 23  Singularity (positive)     17073 non-null  int64 \n",
      " 24  Transportation (positive)  17073 non-null  int64 \n",
      " 25  Work (positive)            17073 non-null  int64 \n",
      " 26  Other (positive)           17073 non-null  object\n",
      "dtypes: int64(19), object(8)\n",
      "memory usage: 3.5+ MB\n"
     ]
    }
   ],
   "source": [
    "df.info()"
   ]
  },
  {
   "cell_type": "markdown",
   "id": "fe5faffe",
   "metadata": {},
   "source": [
    "This dataset is organized so that it gives us the date of the article, the NYT section, the general AI Mood and the AI Relevance. It also tells us whether it has a positive or negative mood about AI (using a 5 point scale with 3 being neutral, 5 being very positive, 1 being very negative) and how related the article is to AI (again, using a 5-point scale). We are also given a binary indicator in the dataset telling us whether or not the article includes fictional examples of AI (Fiction).\n",
    "\n",
    "Then, for each article, the dataset gives a binary indicator of if there is negative or positive sentiment for each of the following categories: Merging of human and AI (Cyborg), Ethics in AI (Ethics), Military applications (Military), Societal Progress using AI (Progress), the AI Singularity (Singularity), and how AI will affect Work (Work). These categories are what we will use to measure not only the general sentiment of AI, but also to try to do some prediction of the trends of AI into the future.\n",
    "\n",
    "There is also some metadata included that we will remove, for it is not relevant in our analysis.\n",
    "\n",
    "Let's start cleaning up the dataset. From the first 7 columns, we remove everything except for date and NYT Section, because those columns are not important. We also can drop the 'other' categories for positive and negative viewpoints on AI, because we will not use those in this analysis."
   ]
  },
  {
   "cell_type": "markdown",
   "id": "21d6091a",
   "metadata": {},
   "source": [
    "### Checking for Quality issues\n",
    "\n",
    "1.  Check duplicates values and drop if any found"
   ]
  },
  {
   "cell_type": "code",
   "execution_count": 7,
   "id": "29a3b3fa",
   "metadata": {},
   "outputs": [
    {
     "name": "stdout",
     "output_type": "stream",
     "text": [
      "True\n"
     ]
    }
   ],
   "source": [
    "print(df.duplicated().any())"
   ]
  },
  {
   "cell_type": "markdown",
   "id": "7c57c7f9",
   "metadata": {},
   "source": [
    "2. Check for rows where all values are null "
   ]
  },
  {
   "cell_type": "code",
   "execution_count": 8,
   "id": "47be83d0",
   "metadata": {},
   "outputs": [
    {
     "data": {
      "text/plain": [
       "Article ID                      0\n",
       "Article Date                 7944\n",
       "Paragraph number                0\n",
       "NYT section                    12\n",
       "Paragraph                      12\n",
       "Title                           3\n",
       "WorkTimeInSeconds               0\n",
       "AI Mood                         0\n",
       "AI Relevance                    0\n",
       "Fiction                         0\n",
       "Controling AI (negative)        0\n",
       "Cyborg (negative)               0\n",
       "Ethics (negative)               0\n",
       "Military (negative)             0\n",
       "Progress (negative)             0\n",
       "Singularity (negative)          0\n",
       "Work (negative)                 0\n",
       "Other (negative)                0\n",
       "Cyborg (positive)               0\n",
       "Decisions (positive)            0\n",
       "Education (positive)            0\n",
       "Entertain (positive)            0\n",
       "Healthcare (positive)           0\n",
       "Singularity (positive)          0\n",
       "Transportation (positive)       0\n",
       "Work (positive)                 0\n",
       "Other (positive)                0\n",
       "dtype: int64"
      ]
     },
     "execution_count": 8,
     "metadata": {},
     "output_type": "execute_result"
    }
   ],
   "source": [
    "df.isnull().sum()"
   ]
  },
  {
   "cell_type": "markdown",
   "id": "1862a89f",
   "metadata": {},
   "source": [
    "3. Handle DateTime Column "
   ]
  },
  {
   "cell_type": "code",
   "execution_count": 9,
   "id": "977641b1",
   "metadata": {},
   "outputs": [
    {
     "data": {
      "text/plain": [
       "dtype('O')"
      ]
     },
     "execution_count": 9,
     "metadata": {},
     "output_type": "execute_result"
    }
   ],
   "source": [
    "df['Article Date'].dtype"
   ]
  },
  {
   "cell_type": "markdown",
   "id": "8efcffe3",
   "metadata": {},
   "source": [
    "### Cleaning the quality issues"
   ]
  },
  {
   "cell_type": "code",
   "execution_count": 10,
   "id": "ef5b14bc",
   "metadata": {},
   "outputs": [],
   "source": [
    "# Make copy of original piece of data\n",
    "df_copy = df.copy()"
   ]
  },
  {
   "cell_type": "code",
   "execution_count": 11,
   "id": "4ffdfe1c",
   "metadata": {},
   "outputs": [
    {
     "name": "stdout",
     "output_type": "stream",
     "text": [
      "False\n"
     ]
    },
    {
     "data": {
      "text/plain": [
       "(17068, 27)"
      ]
     },
     "execution_count": 11,
     "metadata": {},
     "output_type": "execute_result"
    }
   ],
   "source": [
    "# drop duplicates\n",
    "df_copy=df.drop_duplicates()\n",
    "print(df_copy.duplicated().any())\n",
    "df_copy.shape"
   ]
  },
  {
   "cell_type": "code",
   "execution_count": 12,
   "id": "159caa3d",
   "metadata": {},
   "outputs": [],
   "source": [
    "# Drop rows that have all null values\n",
    "df_copy = df.dropna(how='all', axis=0)"
   ]
  },
  {
   "cell_type": "code",
   "execution_count": 13,
   "id": "b9c92bbc",
   "metadata": {},
   "outputs": [],
   "source": [
    "# Drop columns that are not useful\n",
    "df_copy = df.drop(columns=['Article ID', 'Paragraph number', 'Paragraph', 'Title', 'WorkTimeInSeconds',\n",
    "                     'Other (negative)', 'Other (positive)'])"
   ]
  },
  {
   "cell_type": "markdown",
   "id": "401fe9aa",
   "metadata": {},
   "source": [
    "Next, we will convert the Article Date into a DateTime object and also make a new column that stores just the year the article was published."
   ]
  },
  {
   "cell_type": "markdown",
   "id": "c3d4f2a5",
   "metadata": {},
   "source": [
    "### Feature Engineering"
   ]
  },
  {
   "cell_type": "code",
   "execution_count": 14,
   "id": "4074877a",
   "metadata": {},
   "outputs": [],
   "source": [
    "dates = []\n",
    "years = []\n",
    "\n",
    "# What we will do is simply go through every single date and check if it is a date, or if it is some sort of an empty slot\n",
    "# or undecipherable piece of data. We will split it by spaces to remove the UTC and split the string by dashes to separate\n",
    "# the day, month, and year.\n",
    "for i in df_copy.iterrows():\n",
    "    new_date = list(i)[1][0]\n",
    "    \n",
    "    # Some empty dates were stored as floats. If we get a date that is a float, we will store it as an 'empty' date, which i\n",
    "    # designated by the date 1/1/1\n",
    "    if isinstance(new_date, float):\n",
    "        new_datetime = datetime.date(1, 1, 1)\n",
    "        year = 1\n",
    "    else:\n",
    "        new_date = new_date.split(\" \")\n",
    "        new_date = new_date[0].split(\"-\")\n",
    "        \n",
    "        # If there are three values left over after the splitting, we have a day, month, and year, so we create the datetime\n",
    "        if len(new_date) == 3:\n",
    "            new_datetime = datetime.date(int(new_date[0]), int(new_date[1]), int(new_date[2]))\n",
    "            year = int(new_date[0])\n",
    "        else:\n",
    "            #If there is a problem, we just create an empty date as described before.\n",
    "            new_datetime = datetime.date(1, 1, 1)\n",
    "            year = 1\n",
    "    \n",
    "    #Here we simply append to the 2 new columns we are creating\n",
    "    dates.append(new_datetime)\n",
    "    years.append(year)\n",
    "\n",
    "# Now we finally append our new columns to the DataFrame\n",
    "df_copy[\"Date\"] = dates\n",
    "df_copy[\"Year\"] = years"
   ]
  },
  {
   "cell_type": "markdown",
   "id": "6ee60bc5",
   "metadata": {},
   "source": [
    "We would also like to remove all of the articles that don't have a date attached to them. In the previous code where we converted the date to DateTime objects, the dates were simply encoded these as 1/1/1, which is very easy to check for. So now we create a new dataset that only includes articles with dates."
   ]
  },
  {
   "cell_type": "code",
   "execution_count": 15,
   "id": "e289c82f",
   "metadata": {},
   "outputs": [],
   "source": [
    "new_df = []\n",
    "\n",
    "for i in df_copy.iterrows():\n",
    "    date = list(i)[1][20]\n",
    "    \n",
    "    # The year is only 1 if there was no date, so we include this article if the date didn't have a year of 1\n",
    "    if date.year != 1:\n",
    "        new_df.append(list(i)[1])\n",
    "\n",
    "df_copy = pd.DataFrame(new_df)"
   ]
  },
  {
   "cell_type": "code",
   "execution_count": 16,
   "id": "b7b9293a",
   "metadata": {},
   "outputs": [
    {
     "data": {
      "text/html": [
       "<div>\n",
       "<style scoped>\n",
       "    .dataframe tbody tr th:only-of-type {\n",
       "        vertical-align: middle;\n",
       "    }\n",
       "\n",
       "    .dataframe tbody tr th {\n",
       "        vertical-align: top;\n",
       "    }\n",
       "\n",
       "    .dataframe thead th {\n",
       "        text-align: right;\n",
       "    }\n",
       "</style>\n",
       "<table border=\"1\" class=\"dataframe\">\n",
       "  <thead>\n",
       "    <tr style=\"text-align: right;\">\n",
       "      <th></th>\n",
       "      <th>Article Date</th>\n",
       "      <th>NYT section</th>\n",
       "      <th>AI Mood</th>\n",
       "      <th>AI Relevance</th>\n",
       "      <th>Fiction</th>\n",
       "      <th>Controling AI (negative)</th>\n",
       "      <th>Cyborg (negative)</th>\n",
       "      <th>Ethics (negative)</th>\n",
       "      <th>Military (negative)</th>\n",
       "      <th>Progress (negative)</th>\n",
       "      <th>...</th>\n",
       "      <th>Cyborg (positive)</th>\n",
       "      <th>Decisions (positive)</th>\n",
       "      <th>Education (positive)</th>\n",
       "      <th>Entertain (positive)</th>\n",
       "      <th>Healthcare (positive)</th>\n",
       "      <th>Singularity (positive)</th>\n",
       "      <th>Transportation (positive)</th>\n",
       "      <th>Work (positive)</th>\n",
       "      <th>Date</th>\n",
       "      <th>Year</th>\n",
       "    </tr>\n",
       "  </thead>\n",
       "  <tbody>\n",
       "    <tr>\n",
       "      <th>0</th>\n",
       "      <td>1996-10-06 00:00:00 UTC</td>\n",
       "      <td>New York and Region</td>\n",
       "      <td>4</td>\n",
       "      <td>5</td>\n",
       "      <td>0</td>\n",
       "      <td>0</td>\n",
       "      <td>0</td>\n",
       "      <td>0</td>\n",
       "      <td>0</td>\n",
       "      <td>0</td>\n",
       "      <td>...</td>\n",
       "      <td>0</td>\n",
       "      <td>0</td>\n",
       "      <td>0</td>\n",
       "      <td>0</td>\n",
       "      <td>0</td>\n",
       "      <td>0</td>\n",
       "      <td>0</td>\n",
       "      <td>0</td>\n",
       "      <td>1996-10-06</td>\n",
       "      <td>1996</td>\n",
       "    </tr>\n",
       "    <tr>\n",
       "      <th>1</th>\n",
       "      <td>1996-10-06 00:00:00 UTC</td>\n",
       "      <td>New York and Region</td>\n",
       "      <td>4</td>\n",
       "      <td>5</td>\n",
       "      <td>0</td>\n",
       "      <td>0</td>\n",
       "      <td>0</td>\n",
       "      <td>0</td>\n",
       "      <td>0</td>\n",
       "      <td>0</td>\n",
       "      <td>...</td>\n",
       "      <td>0</td>\n",
       "      <td>0</td>\n",
       "      <td>0</td>\n",
       "      <td>0</td>\n",
       "      <td>0</td>\n",
       "      <td>0</td>\n",
       "      <td>0</td>\n",
       "      <td>0</td>\n",
       "      <td>1996-10-06</td>\n",
       "      <td>1996</td>\n",
       "    </tr>\n",
       "  </tbody>\n",
       "</table>\n",
       "<p>2 rows × 22 columns</p>\n",
       "</div>"
      ],
      "text/plain": [
       "              Article Date          NYT section  AI Mood  AI Relevance  \\\n",
       "0  1996-10-06 00:00:00 UTC  New York and Region        4             5   \n",
       "1  1996-10-06 00:00:00 UTC  New York and Region        4             5   \n",
       "\n",
       "   Fiction  Controling AI (negative)  Cyborg (negative)  Ethics (negative)  \\\n",
       "0        0                         0                  0                  0   \n",
       "1        0                         0                  0                  0   \n",
       "\n",
       "   Military (negative)  Progress (negative)  ...  Cyborg (positive)  \\\n",
       "0                    0                    0  ...                  0   \n",
       "1                    0                    0  ...                  0   \n",
       "\n",
       "   Decisions (positive)  Education (positive)  Entertain (positive)  \\\n",
       "0                     0                     0                     0   \n",
       "1                     0                     0                     0   \n",
       "\n",
       "   Healthcare (positive)  Singularity (positive)  Transportation (positive)  \\\n",
       "0                      0                       0                          0   \n",
       "1                      0                       0                          0   \n",
       "\n",
       "   Work (positive)        Date  Year  \n",
       "0                0  1996-10-06  1996  \n",
       "1                0  1996-10-06  1996  \n",
       "\n",
       "[2 rows x 22 columns]"
      ]
     },
     "execution_count": 16,
     "metadata": {},
     "output_type": "execute_result"
    }
   ],
   "source": [
    "df_copy.head(2)"
   ]
  },
  {
   "cell_type": "code",
   "execution_count": 17,
   "id": "82399569",
   "metadata": {},
   "outputs": [],
   "source": [
    "df_copy.to_csv('New_data.csv', index=False)"
   ]
  },
  {
   "cell_type": "markdown",
   "id": "f3c2fe77",
   "metadata": {},
   "source": [
    "<a id='eda'></a>\n",
    "## Exploratory Data Analysis"
   ]
  },
  {
   "cell_type": "markdown",
   "id": "ab56e202",
   "metadata": {},
   "source": [
    "First, we will do a basic graph of the general sentiment on AI over time in a scatterplot. Since there are so many datapoints, we will only graph a random sample size of the data."
   ]
  },
  {
   "cell_type": "code",
   "execution_count": 18,
   "id": "a8779882",
   "metadata": {},
   "outputs": [
    {
     "data": {
      "image/png": "[encoded data removed]",
      "text/plain": [
       "<Figure size 432x288 with 1 Axes>"
      ]
     },
     "metadata": {
      "needs_background": "light"
     },
     "output_type": "display_data"
    }
   ],
   "source": [
    "# This function samples the dataset so that our graph isn't just full of datapoints to the point of being unreadable\n",
    "sampled_df = df_copy.sample(200,random_state=1)\n",
    "\n",
    "# Numpy comes with a polyfit function that we will use for our graph\n",
    "pfit = np.polyfit(sampled_df['Year'], sampled_df['AI Mood'], 1)\n",
    "func = np.poly1d(pfit)\n",
    "\n",
    "sampled_df.insert(21, \"Fit\", func(sampled_df[\"Year\"]))\n",
    "\n",
    "# Now we just plot the datapoints and the linear regression we just did\n",
    "plt = sampled_df.plot.scatter(x = \"Year\", y = \"AI Mood\")\n",
    "sampled_df.plot(x = \"Year\", y = \"Fit\", color = \"Red\", ax=plt);"
   ]
  },
  {
   "cell_type": "markdown",
   "id": "10c8f3d0",
   "metadata": {},
   "source": [
    "There is a slight trend downwards in the general opinion on AI, but it does remain slightly above three, which means it stays positive. However, there do also seem to be quite a lot of neutral articles that have been written, which may be polluting our data, so lets try only graphing articles that have either a positive or a negative view on AI (i.e only articles with an AI Mood of 1, 2, 4 or 5)."
   ]
  },
  {
   "cell_type": "code",
   "execution_count": 19,
   "id": "e787b985",
   "metadata": {},
   "outputs": [],
   "source": [
    "temp_data = []\n",
    "\n",
    "# Here we simply loop through and only add articles with moods not equaling three to our dataset.\n",
    "for i in df_copy.iterrows():\n",
    "    mood = list(i)[1][2]\n",
    "    \n",
    "    if mood != 3:\n",
    "        temp_data.append(list(i)[1])\n",
    "    \n",
    "#Then we convert it to a dataframe\n",
    "test_df = pd.DataFrame(temp_data)"
   ]
  },
  {
   "cell_type": "markdown",
   "id": "6d56d733",
   "metadata": {},
   "source": [
    "Now we will run the analysis again to see if we get a different result."
   ]
  },
  {
   "cell_type": "code",
   "execution_count": 20,
   "id": "a432d116",
   "metadata": {},
   "outputs": [
    {
     "data": {
      "text/plain": [
       "<AxesSubplot:xlabel='Year', ylabel='AI Mood'>"
      ]
     },
     "execution_count": 20,
     "metadata": {},
     "output_type": "execute_result"
    },
    {
     "data": {
      "image/png": "[encoded data removed]",
      "text/plain": [
       "<Figure size 432x288 with 1 Axes>"
      ]
     },
     "metadata": {
      "needs_background": "light"
     },
     "output_type": "display_data"
    }
   ],
   "source": [
    "# This function samples the dataset so that our graph isn't just full of datapoints to the point of being unreadable\n",
    "sampled_df = test_df.sample(200,random_state=1)\n",
    "\n",
    "# Numpy comes with a polyfit function that we will use for our graph\n",
    "pfit = np.polyfit(sampled_df['Year'], sampled_df['AI Mood'], 1)\n",
    "func = np.poly1d(pfit)\n",
    "\n",
    "sampled_df.insert(21, \"Fit\", func(sampled_df[\"Year\"]))\n",
    "\n",
    "# Now we just plot the datapoints and the linear regression we just did\n",
    "plt = sampled_df.plot.scatter(x = \"Year\", y = \"AI Mood\")\n",
    "sampled_df.plot(x = \"Year\", y = \"Fit\", color = \"Red\", ax=plt)"
   ]
  },
  {
   "cell_type": "markdown",
   "id": "a36ec0bf",
   "metadata": {},
   "source": [
    "As we can see, if we remove all of the neutral articles, then the trend becomes a little bit more clear. Not only are articles generally positive around the 90's, but the trend downwards as we get closer to modern day is pronounced.\n",
    "\n",
    "Of course, linear regression is not the only method of analysis we can do, and one thing that we may notice in this graph is that it seems based on an eye test that there are more 1 and 2 level articles in 2005 and onwards compared to before, so even if the average hasn't decreased that much, perhaps there is more extreme negativity in general.\n",
    "\n",
    "So, for the next graph we will graph the number of 1 Mood Negative Articles per year, and the number of 1 Mood Positive Articles per year in an attempt to see if, despite growing optimism about AI, there is also more fear."
   ]
  },
  {
   "cell_type": "code",
   "execution_count": 21,
   "id": "fe70b441",
   "metadata": {},
   "outputs": [
    {
     "data": {
      "image/png": "[encoded data removed]",
      "text/plain": [
       "<Figure size 432x288 with 1 Axes>"
      ]
     },
     "metadata": {
      "needs_background": "light"
     },
     "output_type": "display_data"
    },
    {
     "data": {
      "image/png": "[encoded data removed]",
      "text/plain": [
       "<Figure size 432x288 with 1 Axes>"
      ]
     },
     "metadata": {
      "needs_background": "light"
     },
     "output_type": "display_data"
    }
   ],
   "source": [
    "# Here we create arrays to store the number of ones and fives each year\n",
    "num_of_ones = np.zeros(31)\n",
    "num_of_fives = np.zeros(31)\n",
    "\n",
    "# Now we will loop through the dataset and count up the number of ones and fives\n",
    "for i in df_copy.iterrows():\n",
    "    mood = list(i)[1][2]\n",
    "    \n",
    "    # Here we subtract 1986 from the list since the first year is 1986, meaning that the year 1986 maps to the index of\n",
    "    # 0 in our temporary arrays\n",
    "    if mood == 1:\n",
    "        num_of_ones[list(i)[1][21] - 1986] = num_of_ones[list(i)[1][21] - 1986] + 1\n",
    "    elif mood == 5:\n",
    "        num_of_fives[list(i)[1][21] - 1986] = num_of_fives[list(i)[1][21] - 1986] + 1\n",
    "        \n",
    "new_df_ones = []\n",
    "new_df_fives = []\n",
    "y = 1986\n",
    "\n",
    "# Now we convert our arrays to two dimensional arrays that have the year stored so that our graphs are easier to understand\n",
    "for i in num_of_ones:\n",
    "    new_df_ones.append([y, i])\n",
    "    \n",
    "    y += 1\n",
    "\n",
    "y = 1986\n",
    "\n",
    "for i in num_of_fives:\n",
    "    new_df_fives.append([y, i])\n",
    "    \n",
    "    y += 1\n",
    "\n",
    "# And finally we graph our results\n",
    "test_df_ones = pd.DataFrame(new_df_ones)\n",
    "test_df_ones.plot(x = 0, y = 1, xlabel = \"Year\", ylabel = \"Number of Very Negative Articles\", title = \"Negative Articles per Year\")\n",
    "\n",
    "test_df_fives = pd.DataFrame(new_df_fives)\n",
    "test_df_fives.plot(x = 0, y = 1, xlabel = \"Year\", ylabel = \"Number of Very Positive Articles\", title = \"Positive Articles per Year\");\n"
   ]
  },
  {
   "cell_type": "markdown",
   "id": "741440bd",
   "metadata": {},
   "source": [
    "So as we can see, for both positive and negative articles, the number increased substantially, which is not surprising. However, one interesting phenomenon is how around the year 2000 is when the number of positive articles abruptly increased, while only in the year 2005 did the number of negative articles increase. This fits the idea that with all of the positive hope about AI comes a delayed sense of foreboding about its future. It seems like for a while, there is lots of talk about the positives, but it takes some time for people to realize the negatives of AI. Also something noteworthy is that, from 2012 to 2015, there was an extremely intense increase in negative articles, much moreso than positive articles. This could mean that negativity is increasing at a much faster rate in recent years compared to positivity.\n",
    "\n"
   ]
  },
  {
   "cell_type": "code",
   "execution_count": 22,
   "id": "208222bc",
   "metadata": {},
   "outputs": [
    {
     "data": {
      "image/png": "[encoded data removed]",
      "text/plain": [
       "<Figure size 432x288 with 1 Axes>"
      ]
     },
     "metadata": {
      "needs_background": "light"
     },
     "output_type": "display_data"
    }
   ],
   "source": [
    "# First we group the data by year, and sum all the values up.\n",
    "df_year = df_copy.groupby(['Year']).sum()\n",
    "\n",
    "# Then we  go through and store the newly summed up columns in a series of different arrays, one for each topic.\n",
    "Cyborg = df_year[\"Cyborg (negative)\"] + df_year[\"Cyborg (positive)\"]\n",
    "Ethics = df_year[\"Ethics (negative)\"]\n",
    "Military = df_year[\"Military (negative)\"]\n",
    "Education = df_year[\"Education (positive)\"]\n",
    "Entertain = df_year[\"Entertain (positive)\"]\n",
    "Healthcare = df_year[\"Healthcare (positive)\"]\n",
    "Singularity = df_year[\"Singularity (negative)\"] + df_year[\"Singularity (positive)\"]\n",
    "Transportation = df_year[\"Transportation (positive)\"]\n",
    "Progress = df_year[\"Progress (negative)\"]\n",
    "Decisions = df_year[\"Decisions (positive)\"]\n",
    "ControlingAI = df_year[\"Controling AI (negative)\"]\n",
    "Work = df_year[\"Work (negative)\"] + df_year[\"Work (positive)\"]\n",
    "\n",
    "# Here we plot each of the topics we just summed up one by one so we can see their popularity year by year\n",
    "Work.plot.bar(title = \"Articles on Work affected by AI\");"
   ]
  },
  {
   "cell_type": "code",
   "execution_count": 23,
   "id": "42d635ee",
   "metadata": {},
   "outputs": [
    {
     "data": {
      "image/png": "[encoded data removed]",
      "text/plain": [
       "<Figure size 432x288 with 1 Axes>"
      ]
     },
     "metadata": {
      "needs_background": "light"
     },
     "output_type": "display_data"
    }
   ],
   "source": [
    "Cyborg.plot.bar(title = \"Articles on Cyborg affected by AI\");"
   ]
  },
  {
   "cell_type": "code",
   "execution_count": 24,
   "id": "8dc2b1a6",
   "metadata": {},
   "outputs": [
    {
     "data": {
      "image/png": "[encoded data removed]",
      "text/plain": [
       "<Figure size 432x288 with 1 Axes>"
      ]
     },
     "metadata": {
      "needs_background": "light"
     },
     "output_type": "display_data"
    }
   ],
   "source": [
    "Ethics.plot.bar(title = \"Articles on Ethics affected by AI\");"
   ]
  },
  {
   "cell_type": "code",
   "execution_count": 25,
   "id": "ddf890aa",
   "metadata": {},
   "outputs": [
    {
     "data": {
      "image/png": "[encoded data removed]",
      "text/plain": [
       "<Figure size 432x288 with 1 Axes>"
      ]
     },
     "metadata": {
      "needs_background": "light"
     },
     "output_type": "display_data"
    }
   ],
   "source": [
    "Military.plot.bar(title = \"Articles on Military affected by AI\");"
   ]
  },
  {
   "cell_type": "code",
   "execution_count": 26,
   "id": "52990648",
   "metadata": {},
   "outputs": [
    {
     "data": {
      "image/png": "[encoded data removed]",
      "text/plain": [
       "<Figure size 432x288 with 1 Axes>"
      ]
     },
     "metadata": {
      "needs_background": "light"
     },
     "output_type": "display_data"
    }
   ],
   "source": [
    "Education.plot.bar(title = \"Articles on Education affected by AI\");"
   ]
  },
  {
   "cell_type": "code",
   "execution_count": 27,
   "id": "4d9d4bdd",
   "metadata": {},
   "outputs": [
    {
     "data": {
      "image/png": "[encoded data removed]",
      "text/plain": [
       "<Figure size 432x288 with 1 Axes>"
      ]
     },
     "metadata": {
      "needs_background": "light"
     },
     "output_type": "display_data"
    }
   ],
   "source": [
    "Entertain.plot.bar(title = \"Articles on Entertain affected by AI\");"
   ]
  },
  {
   "cell_type": "code",
   "execution_count": 28,
   "id": "0afb3211",
   "metadata": {},
   "outputs": [
    {
     "data": {
      "image/png": "[encoded data removed]",
      "text/plain": [
       "<Figure size 432x288 with 1 Axes>"
      ]
     },
     "metadata": {
      "needs_background": "light"
     },
     "output_type": "display_data"
    }
   ],
   "source": [
    "Healthcare.plot.bar(title = \"Articles on Healthcare affected by AI\");"
   ]
  },
  {
   "cell_type": "code",
   "execution_count": 29,
   "id": "3d61a338",
   "metadata": {},
   "outputs": [
    {
     "data": {
      "image/png": "[encoded data removed]",
      "text/plain": [
       "<Figure size 432x288 with 1 Axes>"
      ]
     },
     "metadata": {
      "needs_background": "light"
     },
     "output_type": "display_data"
    }
   ],
   "source": [
    "Singularity.plot.bar(title = \"Articles on Singularity affected by AI\");"
   ]
  },
  {
   "cell_type": "code",
   "execution_count": 30,
   "id": "b430e798",
   "metadata": {},
   "outputs": [
    {
     "data": {
      "image/png": "[encoded data removed]",
      "text/plain": [
       "<Figure size 432x288 with 1 Axes>"
      ]
     },
     "metadata": {
      "needs_background": "light"
     },
     "output_type": "display_data"
    }
   ],
   "source": [
    "Transportation.plot.bar(title = \"Articles on Transportation affected by AI\");"
   ]
  },
  {
   "cell_type": "code",
   "execution_count": 31,
   "id": "9ca80cc6",
   "metadata": {},
   "outputs": [
    {
     "data": {
      "image/png": "[encoded data removed]",
      "text/plain": [
       "<Figure size 432x288 with 1 Axes>"
      ]
     },
     "metadata": {
      "needs_background": "light"
     },
     "output_type": "display_data"
    }
   ],
   "source": [
    "Progress.plot.bar(title = \"Articles on Progress affected by AI\");"
   ]
  },
  {
   "cell_type": "code",
   "execution_count": 32,
   "id": "ab224604",
   "metadata": {},
   "outputs": [
    {
     "data": {
      "image/png": "[encoded data removed]",
      "text/plain": [
       "<Figure size 432x288 with 1 Axes>"
      ]
     },
     "metadata": {
      "needs_background": "light"
     },
     "output_type": "display_data"
    }
   ],
   "source": [
    "Decisions.plot.bar(title = \"Articles on Decisions affected by AI\");"
   ]
  },
  {
   "cell_type": "code",
   "execution_count": 33,
   "id": "2997c101",
   "metadata": {},
   "outputs": [
    {
     "data": {
      "image/png": "[encoded data removed]",
      "text/plain": [
       "<Figure size 432x288 with 1 Axes>"
      ]
     },
     "metadata": {
      "needs_background": "light"
     },
     "output_type": "display_data"
    }
   ],
   "source": [
    "ControlingAI.plot.bar(title = \"Articles on Controling AI affected by AI\");"
   ]
  },
  {
   "cell_type": "markdown",
   "id": "a263079b",
   "metadata": {},
   "source": [
    "From the above graphs, we can see that nearly every single topic has had an increase. The only exception seems to be transportation, which has some big peaks but on average looks to only be slightly increasing. Some interesting things are revealed by looking at these graphs. For example, ethics in AI was essentially not talked about at all until 2007 or so, meaning that it was never really considered until recently. Fears of AI use in the military seemed to peak around 2005 but has actually dropped a little since then. Healthcare is another sector that seemingly wasn't really considered much at all until around 2000. What is perhaps not much of a surprise is how the effect of AI on work is the most popular topic, and its not a wonder why. Many of the other issues are a lot more abstract and, for the most part, can be far away from the average person. However, someone's livelihood is much closer to home, and the increasingly generalized problem solving capabilities of AI are leading more and more people to a very grounded and easy to understand fear, \"Will my job become automated?\" It's no wonder its the most popular topic."
   ]
  },
  {
   "cell_type": "markdown",
   "id": "4da89ff7",
   "metadata": {},
   "source": [
    "<a id='sentiment'></a>\n",
    "## Sentiment Analysis "
   ]
  },
  {
   "cell_type": "code",
   "execution_count": 34,
   "id": "e8ac3ac0",
   "metadata": {},
   "outputs": [],
   "source": [
    "# import necessary libraries\n",
    "import nltk\n",
    "import re\n",
    "from textblob import TextBlob\n",
    "from nltk.corpus import stopwords\n",
    "from nltk.tokenize import sent_tokenize, word_tokenize"
   ]
  },
  {
   "cell_type": "markdown",
   "id": "78637ca6",
   "metadata": {},
   "source": [
    "Next, we can preprocess the paragraph column from the original dataframe"
   ]
  },
  {
   "cell_type": "code",
   "execution_count": 35,
   "id": "b80cccba",
   "metadata": {},
   "outputs": [],
   "source": [
    "def preprocessing(text):\n",
    "    text = re.sub(\"[^-9A-Za-z ]\", \"\", text).lower()\n",
    "    text= re.sub(\"[^\\w\\s]\",\" \", text)\n",
    "    stop = stopwords.words(\"english\")\n",
    "    tokens = [word for word in (token for token in word_tokenize(text)) if word not in stop]\n",
    "    #lemmatizer = nltk.WordNetLemmatizer()\n",
    "    #preprocessed_text = ' '.join([lemmatizer.lemmatize(word) for word in tokens])\n",
    "    preprocessed_text = ' '.join([word for word in tokens])\n",
    "    return preprocessed_text"
   ]
  },
  {
   "cell_type": "code",
   "execution_count": 36,
   "id": "506384b3",
   "metadata": {},
   "outputs": [],
   "source": [
    "df['Paragraph'] = df['Paragraph'].astype(str)\n",
    "df['cleaned_paragraph'] = df['Paragraph'].apply(preprocessing)"
   ]
  },
  {
   "cell_type": "code",
   "execution_count": 37,
   "id": "1673a827",
   "metadata": {},
   "outputs": [],
   "source": [
    "def get_paragraph_polarity(paragraph):\n",
    "  \"\"\"\n",
    "        Utility function to classify sentiment of passed paragraph\n",
    "        using textblob's sentiment method\n",
    "  \"\"\"\n",
    "  return TextBlob(paragraph).sentiment.polarity\n",
    "\n",
    "\n",
    "def get_sentiment_textblob(text):\n",
    "    if text > 0:                \n",
    "        return\"Positive\"\n",
    "    elif text == 0:\n",
    "        return\"Neutral\"\n",
    "    else:\n",
    "        return\"Negative\""
   ]
  },
  {
   "cell_type": "code",
   "execution_count": 38,
   "id": "a00bf8d7",
   "metadata": {},
   "outputs": [],
   "source": [
    "# create a new column called 'polarity' & 'sentiment' by applying 'get paragraph polarity' & 'get sentiment textblob' \n",
    "#function to the 'cleaned paragraph’ & 'polarity' column.\n",
    "\n",
    "df['polarity']=df['cleaned_paragraph'].apply(get_paragraph_polarity)\n",
    "df['Sentiment']=df['polarity'].apply(get_sentiment_textblob)"
   ]
  },
  {
   "cell_type": "code",
   "execution_count": 39,
   "id": "a8b6a184",
   "metadata": {},
   "outputs": [],
   "source": [
    "#create a function to calculate the total and percentage of sentiments\n",
    "\n",
    "def sentiment_count(data, count):\n",
    "    total = data.loc[:,count].value_counts(dropna=False)\n",
    "    percentage = round(data.loc[:,count].value_counts(dropna=False,normalize=True)*100,2)\n",
    "    return pd.concat([total, percentage],axis=1,keys=[\"total\", 'Percentage'])"
   ]
  },
  {
   "cell_type": "code",
   "execution_count": 40,
   "id": "72cc848a",
   "metadata": {},
   "outputs": [],
   "source": [
    "#save sentiment count to csv for visualization\n",
    "\n",
    "sentiment_count(df, \"Sentiment\").to_csv(\"sentiment_count.csv\")"
   ]
  },
  {
   "cell_type": "code",
   "execution_count": 41,
   "id": "e3738050",
   "metadata": {},
   "outputs": [
    {
     "data": {
      "text/plain": [
       "Positive    8325\n",
       "Negative    7605\n",
       "Neutral     1143\n",
       "Name: Sentiment, dtype: int64"
      ]
     },
     "execution_count": 41,
     "metadata": {},
     "output_type": "execute_result"
    }
   ],
   "source": [
    "# get unique values and count in sentiment column\n",
    "\n",
    "sentiment_df = df['Sentiment'].value_counts()\n",
    "sentiment_df"
   ]
  },
  {
   "cell_type": "code",
   "execution_count": 42,
   "id": "36c5ca1e",
   "metadata": {},
   "outputs": [
    {
     "data": {
      "image/png": "[encoded data removed]",
      "text/plain": [
       "<Figure size 864x576 with 1 Axes>"
      ]
     },
     "metadata": {},
     "output_type": "display_data"
    }
   ],
   "source": [
    "#Plotting a pie chart to show distribution of Sentiments\n",
    "\n",
    "ax = sentiment_df.plot(kind='pie',figsize=(12,8), autopct='%1.0f%%')\n",
    "ax.set_title('Writers Sentiments',fontsize=15);"
   ]
  },
  {
   "cell_type": "markdown",
   "id": "3bd99b92",
   "metadata": {},
   "source": [
    "The writers seem to have a positive feeling about AI with 49% being positive, 7% neutral and 45% negative. "
   ]
  },
  {
   "cell_type": "markdown",
   "id": "6052cbf0",
   "metadata": {},
   "source": [
    "<a id='model'></a>\n",
    "## Hypothesis testing and Modeling"
   ]
  },
  {
   "cell_type": "markdown",
   "id": "10b3acf7",
   "metadata": {},
   "source": [
    "One thing that we are more intimately curious about is which fears are increasing the fastest. It is easy to see that topics regarding AI are getting more prominent in the public eye, but which fears, exactly, do people worry about the most? If we were to project into the future, what issues are increasing the most relative to all the others? Another interesting piece of information is to see if any fears are strongly correlated. For example, we would hypothesize that Articles on the Singularity will have a strong correlation with Articles about work being affected by AI, since the singularity strongly implies almost any job being automated.\n",
    "\n",
    "To do this, we will start by using some basic regression analysis just to see which categories of interest are increasing the most rapidly. We will be excluding the year 2016 in these algorithms, because it seems that there is a dip at 2016 due to the dataset being taken during 2016, meaning that there are only a partial year of articles. This leads to an artificial dip in the number of articles for all categories in 2016, so we will remove this year to assist the algorithms.\n",
    "\n",
    "We will start by analyzing the number of articles related to each topic per year, so we start be creating a dataframe that stores all of the info we just graphed."
   ]
  },
  {
   "cell_type": "code",
   "execution_count": 43,
   "id": "d3f651ca",
   "metadata": {},
   "outputs": [],
   "source": [
    "# Here we go through and create a new analysis dataset that combines all of the data we just graphed into one dataset\n",
    "analysis_df = pd.DataFrame(Cyborg)\n",
    "analysis_df.columns = [\"Cyborg\"]\n",
    "\n",
    "# Here we go through and add the columns one by one for each topic\n",
    "analysis_df[\"Ethics\"] = Ethics\n",
    "analysis_df[\"Military\"] = Military\n",
    "analysis_df[\"Education\"] = Education\n",
    "analysis_df[\"Entertain\"] = Entertain\n",
    "analysis_df[\"Healthcare\"] = Healthcare\n",
    "analysis_df[\"Singularity\"] = Singularity\n",
    "analysis_df[\"Transportation\"] = Transportation\n",
    "analysis_df[\"Work\"] = Work\n",
    "# Here we group the data by year, but calculate the mean AI Mood, which is much more useful than the sum of AI Mood in all\n",
    "# Articles for that year\n",
    "df_year = df_copy.groupby(['Year']).mean()\n",
    "Mood = df_year[\"AI Mood\"]\n",
    "\n",
    "analysis_df[\"AI Mood\"] = Mood\n",
    "\n",
    "# Here we drop the last row, which has the year 2016 which is incomplete\n",
    "analysis_df = analysis_df.drop(analysis_df.index[-1])"
   ]
  },
  {
   "cell_type": "markdown",
   "id": "7afe96f8",
   "metadata": {},
   "source": [
    "Now we will do a polynomial regression for each topic, and then see what the derivative of each topic is at the year 2015, so we can see which topics are on the rise and which are getting less popular."
   ]
  },
  {
   "cell_type": "code",
   "execution_count": 44,
   "id": "1157c1e2",
   "metadata": {},
   "outputs": [
    {
     "name": "stdout",
     "output_type": "stream",
     "text": [
      "Derivative of Cyborg at 2015: 1.8220026434046304\n",
      "Derivative of Ethics at 2015: 1.5518092298225383\n",
      "Derivative of Military at 2015: 0.48369416221066786\n",
      "Derivative of Education at 2015: 0.3450254840008711\n",
      "Derivative of Entertain at 2015: 0.9485430360055034\n",
      "Derivative of Healthcare at 2015: 3.515033974108519\n",
      "Derivative of Singularity at 2015: 1.4373038165558683\n",
      "Derivative of Transportation at 2015: 0.9045946599048875\n",
      "Derivative of Work at 2015: 4.884076571870537\n"
     ]
    }
   ],
   "source": [
    "derivatives = []\n",
    "\n",
    "topics = [\"Cyborg\", \"Ethics\", \"Military\", \"Education\", \"Entertain\", \"Healthcare\", \"Singularity\", \"Transportation\", \"Work\"]\n",
    "\n",
    "# Here we just go through the topics one by one, doing a polynomial regression for each one and printing its derivative at\n",
    "# 2015 to see the general trend in each topic\n",
    "for i in topics:\n",
    "    temp_coeff = np.polyfit(list(analysis_df.index), analysis_df[i], 3)\n",
    "    temp_func = np.poly1d(temp_coeff)\n",
    "    temp_deriv = temp_func.deriv()\n",
    "    print(\"Derivative of \" + i + \" at 2015: \" + str(temp_deriv(2015)))\n",
    "    \n",
    "    # Here we append the derivative to an array, which we will use later for normalizing the data\n",
    "    derivatives.append(temp_deriv(2015))"
   ]
  },
  {
   "cell_type": "markdown",
   "id": "61393f01",
   "metadata": {},
   "source": [
    "Now we will normalize these derivatives based on the average of the derivatives to account for the fact that discussions around AI are increasing in general. Then, we can get a z-score to see how much certain derivatives stand out."
   ]
  },
  {
   "cell_type": "code",
   "execution_count": 45,
   "id": "875660c3",
   "metadata": {},
   "outputs": [
    {
     "name": "stdout",
     "output_type": "stream",
     "text": [
      "z-score of Derivative of Cyborg at 2015: 0.03973683400753812\n",
      "z-score of Derivative of Ethics at 2015: -0.15125347471350747\n",
      "z-score of Derivative of Military at 2015: -0.9062667957573642\n",
      "z-score of Derivative of Education at 2015: -1.0042868522425004\n",
      "z-score of Derivative of Entertain at 2015: -0.5776813253060953\n",
      "z-score of Derivative of Healthcare at 2015: 1.2364816851816958\n",
      "z-score of Derivative of Singularity at 2015: -0.23219336121961473\n",
      "z-score of Derivative of Transportation  at 2015: -0.6087469009171567\n",
      "z-score of Derivative of Work at 2015: 2.204210190967005\n"
     ]
    }
   ],
   "source": [
    "mean = np.mean(derivatives)\n",
    "sd = np.std(derivatives)\n",
    "\n",
    "# Here we simply do the z-score calculation\n",
    "derivatives = derivatives - mean * np.ones(9)\n",
    "derivatives = derivatives / sd * np.ones(9)\n",
    "\n",
    "# Here we simply print all of our new z-scores\n",
    "print(\"z-score of Derivative of Cyborg at 2015: \" + str(derivatives[0]))\n",
    "print(\"z-score of Derivative of Ethics at 2015: \" + str(derivatives[1]))\n",
    "print(\"z-score of Derivative of Military at 2015: \" + str(derivatives[2]))\n",
    "print(\"z-score of Derivative of Education at 2015: \" + str(derivatives[3]))\n",
    "print(\"z-score of Derivative of Entertain at 2015: \" + str(derivatives[4]))\n",
    "print(\"z-score of Derivative of Healthcare at 2015: \" + str(derivatives[5]))\n",
    "print(\"z-score of Derivative of Singularity at 2015: \" + str(derivatives[6]))\n",
    "print(\"z-score of Derivative of Transportation  at 2015: \" + str(derivatives[7]))\n",
    "print(\"z-score of Derivative of Work at 2015: \" + str(derivatives[8]))"
   ]
  },
  {
   "cell_type": "markdown",
   "id": "d5cc1f1c",
   "metadata": {},
   "source": [
    "So as we can see, one topic clearly stands out as statistically significant, Work. If we say that we want a standard deviation of 2 from the mean to consider a piece of data an outlier, then Work fits the bill. It's increase in articles per year has a z-score of 2.2042, which is a large outlier from all of the other data. This strongly implies that the increase in articles related to work is not due to chance, and is likely a real phenomenon, which in retrospect may be unsurprising. In a capitalistic society if you can't work then you can't survive, so people would naturally be worried about AI taking their jobs, even moreso with all the recent advancements in AI. There were a couple of other topics that were almost significant. Healthcare has a large increase, and Military and Education had a pretty large decrease. However, these z-scores were much closer to 0, and therefore it is harder to say they are significant.\n",
    "\n",
    "Next, we will do some machine learning to figure out which topics predict a good or bad AI Mood. To do this, I will be using the k-Nearest Neighbors classification decision tree and ensemble techniques and pick our best classifier, where we will use the presence of certain topics in articles to try to predict whether the AI Mood will be 1, 2, 3, 4 or 5.\n",
    "\n",
    "We will start by creating an array called X which stores all of our features (i.e whether or not an article contains each of the previously indicated topics), and y which stores the AI Mood for each article."
   ]
  },
  {
   "cell_type": "code",
   "execution_count": 46,
   "id": "4506db24",
   "metadata": {},
   "outputs": [],
   "source": [
    "# Here are the two arrays which will store all of our data for training. X stores the \"inputs\", y stores the \"outputs\" i.e \n",
    "# the AI Mood\n",
    "X = []\n",
    "y = []\n",
    "\n",
    "# Here we define an array for each topic\n",
    "Cyborg = df_copy[\"Cyborg (negative)\"] + df_copy[\"Cyborg (positive)\"]\n",
    "Ethics = df_copy[\"Ethics (negative)\"]\n",
    "Military = df_copy[\"Military (negative)\"]\n",
    "Education = df_copy[\"Education (positive)\"]\n",
    "Entertain = df_copy[\"Entertain (positive)\"]\n",
    "Healthcare = df_copy[\"Healthcare (positive)\"]\n",
    "Singularity = df_copy[\"Singularity (negative)\"] + df_copy[\"Singularity (positive)\"]\n",
    "Transportation = df_copy[\"Transportation (positive)\"]\n",
    "Progress = df_copy[\"Progress (negative)\"]\n",
    "Decisions = df_copy[\"Decisions (positive)\"]\n",
    "ControlingAI = df_copy[\"Controling AI (negative)\"]\n",
    "Work = df_copy[\"Work (negative)\"] + df_copy[\"Work (positive)\"]\n",
    "Mood = df_copy[\"AI Mood\"]\n",
    "\n",
    "# Here we go through and populate X and y with all of the data from the topic arrays we just created\n",
    "for i in range(0, len(Cyborg)):\n",
    "    if i in Cyborg.index:\n",
    "        X.append([Cyborg[i], Ethics[i], Military[i], Education[i], Entertain[i] , Healthcare[i], Singularity[i], Transportation[i],\n",
    "                  Progress[i], Decisions[i], ControlingAI[i], Work[i]])\n",
    "        y.append(Mood[i])"
   ]
  },
  {
   "cell_type": "markdown",
   "id": "75835091",
   "metadata": {},
   "source": [
    "Next, we will convert X and y to dataframes in order to be able to normalise the x_train and x_test after performing train test split. Then we will rename the columns to the original as we're have created a list in the cell above. "
   ]
  },
  {
   "cell_type": "code",
   "execution_count": 47,
   "id": "02f38e02",
   "metadata": {},
   "outputs": [],
   "source": [
    "# Converting X to a Dataframe\n",
    "X = pd.DataFrame(X)"
   ]
  },
  {
   "cell_type": "code",
   "execution_count": 48,
   "id": "00cac4ba",
   "metadata": {},
   "outputs": [],
   "source": [
    "# Renaming columns to the original names \n",
    "X.rename(columns={0:'Cyborg', 1:'Ethics', 2:'Military', 3:'Education', 4:'Entertain', 5:'Healthcare',\n",
    "                 6:'Singularity', 7:'Transportation', 8:'Progress', 9:'Decisions', 10:'ControlingAI', 11:'Work'},\n",
    "                    inplace=True)"
   ]
  },
  {
   "cell_type": "code",
   "execution_count": 49,
   "id": "340144f2",
   "metadata": {},
   "outputs": [
    {
     "data": {
      "text/html": [
       "<div>\n",
       "<style scoped>\n",
       "    .dataframe tbody tr th:only-of-type {\n",
       "        vertical-align: middle;\n",
       "    }\n",
       "\n",
       "    .dataframe tbody tr th {\n",
       "        vertical-align: top;\n",
       "    }\n",
       "\n",
       "    .dataframe thead th {\n",
       "        text-align: right;\n",
       "    }\n",
       "</style>\n",
       "<table border=\"1\" class=\"dataframe\">\n",
       "  <thead>\n",
       "    <tr style=\"text-align: right;\">\n",
       "      <th></th>\n",
       "      <th>Cyborg</th>\n",
       "      <th>Ethics</th>\n",
       "      <th>Military</th>\n",
       "      <th>Education</th>\n",
       "      <th>Entertain</th>\n",
       "      <th>Healthcare</th>\n",
       "      <th>Singularity</th>\n",
       "      <th>Transportation</th>\n",
       "      <th>Progress</th>\n",
       "      <th>Decisions</th>\n",
       "      <th>ControlingAI</th>\n",
       "      <th>Work</th>\n",
       "    </tr>\n",
       "  </thead>\n",
       "  <tbody>\n",
       "    <tr>\n",
       "      <th>0</th>\n",
       "      <td>0</td>\n",
       "      <td>0</td>\n",
       "      <td>0</td>\n",
       "      <td>0</td>\n",
       "      <td>0</td>\n",
       "      <td>0</td>\n",
       "      <td>0</td>\n",
       "      <td>0</td>\n",
       "      <td>0</td>\n",
       "      <td>0</td>\n",
       "      <td>0</td>\n",
       "      <td>0</td>\n",
       "    </tr>\n",
       "  </tbody>\n",
       "</table>\n",
       "</div>"
      ],
      "text/plain": [
       "   Cyborg  Ethics  Military  Education  Entertain  Healthcare  Singularity  \\\n",
       "0       0       0         0          0          0           0            0   \n",
       "\n",
       "   Transportation  Progress  Decisions  ControlingAI  Work  \n",
       "0               0         0          0             0     0  "
      ]
     },
     "execution_count": 49,
     "metadata": {},
     "output_type": "execute_result"
    }
   ],
   "source": [
    "X.head(1)"
   ]
  },
  {
   "cell_type": "code",
   "execution_count": 50,
   "id": "a6068d8f",
   "metadata": {},
   "outputs": [],
   "source": [
    "# Converting y to a Dataframe\n",
    "# y =pd.DataFrame(y)"
   ]
  },
  {
   "cell_type": "code",
   "execution_count": 51,
   "id": "0fb7865e",
   "metadata": {},
   "outputs": [],
   "source": [
    "# Renaming columns to the original names\n",
    "# y.rename(columns={0:'AI Mood'},inplace=True)"
   ]
  },
  {
   "cell_type": "markdown",
   "id": "34cee3bf",
   "metadata": {},
   "source": [
    "Let's allocate 80% of the set for training (X_train, y_train) and 20% for the test set (X_test, y_test). The test set will not be involved in tuning the parameters of the models. We'll use it at the end, after tuning, to assess the quality of the resulting model. We would train different classifier models and select the best. Also we can perform ensembling technique."
   ]
  },
  {
   "cell_type": "code",
   "execution_count": 52,
   "id": "470b2daa",
   "metadata": {},
   "outputs": [],
   "source": [
    "from sklearn.preprocessing import StandardScaler\n",
    "\n",
    "X_train, X_test, y_train, y_test = train_test_split(X, y, test_size=0.2, random_state=17)\n",
    "\n",
    "#Define standard scaler\n",
    "scaler = StandardScaler()\n",
    "\n",
    "#transform train set\n",
    "normalised_train_df = scaler.fit_transform(X_train)\n",
    "normalised_train_df = pd.DataFrame(normalised_train_df, columns = X_train.columns)\n",
    "\n",
    "#transform test set\n",
    "normalised_test_df = scaler.transform(X_test)\n",
    "normalised_test_df = pd.DataFrame(normalised_test_df,  columns = X_test.columns)"
   ]
  },
  {
   "cell_type": "code",
   "execution_count": 53,
   "id": "b478613b",
   "metadata": {},
   "outputs": [],
   "source": [
    "# ExtraTreesClassifier\n",
    "\n",
    "from sklearn.ensemble import ExtraTreesClassifier"
   ]
  },
  {
   "cell_type": "code",
   "execution_count": 54,
   "id": "c1f51a15",
   "metadata": {},
   "outputs": [],
   "source": [
    "#Define Extra Trees Classifier model\n",
    "extra_tree_clf = ExtraTreesClassifier()\n",
    "\n",
    "#fit model\n",
    "extra_tree_clf.fit(normalised_train_df, y_train)\n",
    "\n",
    "#Predict model\n",
    "pred = extra_tree_clf.predict(normalised_test_df)"
   ]
  },
  {
   "cell_type": "code",
   "execution_count": 55,
   "id": "24c9d1d7",
   "metadata": {},
   "outputs": [
    {
     "data": {
      "text/plain": [
       "0.7645484949832776"
      ]
     },
     "execution_count": 55,
     "metadata": {},
     "output_type": "execute_result"
    }
   ],
   "source": [
    "#Let evaluate the accuracy score matrix\n",
    "from sklearn.metrics import accuracy_score\n",
    "\n",
    "accuracy_score(y_test, pred) "
   ]
  },
  {
   "cell_type": "code",
   "execution_count": null,
   "id": "2578bd70",
   "metadata": {},
   "outputs": [],
   "source": []
  },
  {
   "cell_type": "markdown",
   "id": "bf54e8ee",
   "metadata": {},
   "source": [
    "### Feature Selection\n",
    "Like most tree-based models, extra trees models have a nice property, which is that feature importance is computed during model training. Feature importance can be used as a feature selection method.\n",
    "\n",
    "Let's find the feature importance using the ExtraTreesClassifier model. Which features are the least important and we drop them for the training"
   ]
  },
  {
   "cell_type": "code",
   "execution_count": 56,
   "id": "859bde83",
   "metadata": {},
   "outputs": [
    {
     "data": {
      "image/png": "[encoded data removed]",
      "text/plain": [
       "<Figure size 432x288 with 1 Axes>"
      ]
     },
     "metadata": {
      "needs_background": "light"
     },
     "output_type": "display_data"
    }
   ],
   "source": [
    "feature_importance = pd.Series(extra_tree_clf.feature_importances_, index = X.columns)\n",
    "ax = feature_importance.plot(kind='barh')\n",
    "\n",
    "\n",
    "ax.set_ylabel('Features')\n",
    "ax.set_xlabel('Importance')\n",
    "ax.set_title('Feature importances obtained from coefficients', size=15);"
   ]
  },
  {
   "cell_type": "code",
   "execution_count": 57,
   "id": "b71dca7f",
   "metadata": {},
   "outputs": [
    {
     "data": {
      "text/plain": [
       "Cyborg            0.058378\n",
       "Ethics            0.028560\n",
       "Military          0.015978\n",
       "Education         0.064158\n",
       "Entertain         0.110226\n",
       "Healthcare        0.121103\n",
       "Singularity       0.048129\n",
       "Transportation    0.099464\n",
       "Progress          0.070265\n",
       "Decisions         0.048759\n",
       "ControlingAI      0.054229\n",
       "Work              0.280752\n",
       "dtype: float64"
      ]
     },
     "execution_count": 57,
     "metadata": {},
     "output_type": "execute_result"
    }
   ],
   "source": [
    "feature_importance"
   ]
  },
  {
   "cell_type": "markdown",
   "id": "5f033e30",
   "metadata": {},
   "source": [
    "From the plot displayed above we can see that Military and Ethics have rather low importance.\n",
    "\n",
    "We can consider dropping these features be dropped from the model because a simpler model tends to generalize well. To find out how a model with a reduced feature set compares with previous results, we will create training and test datasets for building the model using the reduced features."
   ]
  },
  {
   "cell_type": "code",
   "execution_count": 58,
   "id": "820a7721",
   "metadata": {},
   "outputs": [],
   "source": [
    "# Create reduced feature set by dropping the columns\n",
    "X.drop(['Military','Ethics'], axis =1, inplace=True)"
   ]
  },
  {
   "cell_type": "code",
   "execution_count": 59,
   "id": "f658388b",
   "metadata": {},
   "outputs": [],
   "source": [
    "# create new train and hold-out sets\n",
    "X_train, X_test, y_train, y_test = train_test_split(X, y, test_size=0.2,random_state=17)\n",
    "\n",
    "X_train_scaled = scaler.fit_transform(X_train)\n",
    "X_test_scaled = scaler.transform(X_test)"
   ]
  },
  {
   "cell_type": "markdown",
   "id": "3b933114",
   "metadata": {},
   "source": [
    "Next, we will create, fit and score the model"
   ]
  },
  {
   "cell_type": "code",
   "execution_count": 60,
   "id": "107aa435",
   "metadata": {},
   "outputs": [],
   "source": [
    "extra_tree_clf = ExtraTreesClassifier(random_state =1)\n",
    "extra_tree_clf.fit(X_train_scaled, y_train)\n",
    "\n",
    "#Predict model\n",
    "pred = extra_tree_clf.predict(X_test_scaled)"
   ]
  },
  {
   "cell_type": "code",
   "execution_count": 61,
   "id": "0c5f4344",
   "metadata": {},
   "outputs": [
    {
     "data": {
      "text/plain": [
       "0.7625418060200669"
      ]
     },
     "execution_count": 61,
     "metadata": {},
     "output_type": "execute_result"
    }
   ],
   "source": [
    "#Let evaluate the accuracy score matrix\n",
    "\n",
    "accuracy_score(y_test, pred) "
   ]
  },
  {
   "cell_type": "markdown",
   "id": "9a7d9060",
   "metadata": {},
   "source": [
    "These results are nearly the same as those obtained with the full feature set. In all likelihood, there is no significant difference. Given that a simpler model is more likely to generalize, this model is preferred."
   ]
  },
  {
   "cell_type": "markdown",
   "id": "635500ba",
   "metadata": {},
   "source": [
    "Now using the ExtraTreesClassifier as our estimator with cv=5, n_iter=10, scoring = 'accuracy', n_jobs = -1, verbose = 1 and random_state = 1. Let's find the best hyperparameters from the randomized search CV"
   ]
  },
  {
   "cell_type": "code",
   "execution_count": 62,
   "id": "4a57283e",
   "metadata": {},
   "outputs": [
    {
     "name": "stdout",
     "output_type": "stream",
     "text": [
      "Fitting 10 folds for each of 10 candidates, totalling 100 fits\n",
      "Best Score: 0.7572777488333531\n",
      "Best Hyperparameters: {'n_estimators': 50, 'min_samples_split': 5, 'min_samples_leaf': 2, 'max_features': None}\n"
     ]
    }
   ],
   "source": [
    "# Hyperparameter tuning for Extra trees classifier\n",
    "#Define Extra Trees Classifier model\n",
    "param = { 'n_estimators':[50, 100, 300, 500, 1000],\n",
    "         'min_samples_leaf':[2, 4, 6, 8, 10],\n",
    "         'max_features':['sqrt', 'log2', None],\n",
    "         'min_samples_split':[2, 3, 5, 7, 9]}\n",
    "search = RandomizedSearchCV(extra_tree_clf, param, n_iter=10, scoring='accuracy', n_jobs=-1, cv=10, random_state=1, verbose=1)\n",
    "result = search.fit(X_train_scaled, y_train)\n",
    "# summarize result\n",
    "print('Best Score: %s' % result.best_score_)\n",
    "print('Best Hyperparameters: %s' % result.best_params_)"
   ]
  },
  {
   "cell_type": "markdown",
   "id": "b1117ebc",
   "metadata": {},
   "source": [
    "Next, let's train a new ExtraTreesClassifier Model with the new Hyperparameters from the RandomizedSearchCV to see if the accuracy of the new optimal model is higher or lower than the initial ExtraTreesClassifier model with no hyperparameter tuning."
   ]
  },
  {
   "cell_type": "code",
   "execution_count": 63,
   "id": "38de9d4f",
   "metadata": {},
   "outputs": [],
   "source": [
    "# new optimal model\n",
    "\n",
    "#Define model\n",
    "new_extra_clf = ExtraTreesClassifier(n_estimators = 50, min_samples_split = 5, min_samples_leaf = 2, max_features = None, random_state=1)\n",
    "\n",
    "#fit model\n",
    "new_extra_clf.fit(X_train_scaled, y_train)\n",
    "\n",
    "#Predict model\n",
    "new_pred = new_extra_clf.predict(X_test_scaled)"
   ]
  },
  {
   "cell_type": "code",
   "execution_count": 64,
   "id": "01a73949",
   "metadata": {},
   "outputs": [
    {
     "data": {
      "text/plain": [
       "0.7632107023411371"
      ]
     },
     "execution_count": 64,
     "metadata": {},
     "output_type": "execute_result"
    }
   ],
   "source": [
    "# Evaluate the accuracy score matrix\n",
    "\n",
    "accuracy_score(y_test, new_pred) "
   ]
  },
  {
   "cell_type": "markdown",
   "id": "fa2eec24",
   "metadata": {},
   "source": [
    "The new model slightly did better than the initial model."
   ]
  },
  {
   "cell_type": "markdown",
   "id": "33788f21",
   "metadata": {},
   "source": [
    "Next let's train decision tree and k-NN models. We do not know what parameters are good, so we will assume some random ones: a tree depth of 5 and the number of nearest neighbors equal 10."
   ]
  },
  {
   "cell_type": "code",
   "execution_count": 65,
   "id": "26bb6f76",
   "metadata": {},
   "outputs": [
    {
     "data": {
      "text/html": [
       "<style>#sk-container-id-1 {color: black;background-color: white;}#sk-container-id-1 pre{padding: 0;}#sk-container-id-1 div.sk-toggleable {background-color: white;}#sk-container-id-1 label.sk-toggleable__label {cursor: pointer;display: block;width: 100%;margin-bottom: 0;padding: 0.3em;box-sizing: border-box;text-align: center;}#sk-container-id-1 label.sk-toggleable__label-arrow:before {content: \"▸\";float: left;margin-right: 0.25em;color: #696969;}#sk-container-id-1 label.sk-toggleable__label-arrow:hover:before {color: black;}#sk-container-id-1 div.sk-estimator:hover label.sk-toggleable__label-arrow:before {color: black;}#sk-container-id-1 div.sk-toggleable__content {max-height: 0;max-width: 0;overflow: hidden;text-align: left;background-color: #f0f8ff;}#sk-container-id-1 div.sk-toggleable__content pre {margin: 0.2em;color: black;border-radius: 0.25em;background-color: #f0f8ff;}#sk-container-id-1 input.sk-toggleable__control:checked~div.sk-toggleable__content {max-height: 200px;max-width: 100%;overflow: auto;}#sk-container-id-1 input.sk-toggleable__control:checked~label.sk-toggleable__label-arrow:before {content: \"▾\";}#sk-container-id-1 div.sk-estimator input.sk-toggleable__control:checked~label.sk-toggleable__label {background-color: #d4ebff;}#sk-container-id-1 div.sk-label input.sk-toggleable__control:checked~label.sk-toggleable__label {background-color: #d4ebff;}#sk-container-id-1 input.sk-hidden--visually {border: 0;clip: rect(1px 1px 1px 1px);clip: rect(1px, 1px, 1px, 1px);height: 1px;margin: -1px;overflow: hidden;padding: 0;position: absolute;width: 1px;}#sk-container-id-1 div.sk-estimator {font-family: monospace;background-color: #f0f8ff;border: 1px dotted black;border-radius: 0.25em;box-sizing: border-box;margin-bottom: 0.5em;}#sk-container-id-1 div.sk-estimator:hover {background-color: #d4ebff;}#sk-container-id-1 div.sk-parallel-item::after {content: \"\";width: 100%;border-bottom: 1px solid gray;flex-grow: 1;}#sk-container-id-1 div.sk-label:hover label.sk-toggleable__label {background-color: #d4ebff;}#sk-container-id-1 div.sk-serial::before {content: \"\";position: absolute;border-left: 1px solid gray;box-sizing: border-box;top: 0;bottom: 0;left: 50%;z-index: 0;}#sk-container-id-1 div.sk-serial {display: flex;flex-direction: column;align-items: center;background-color: white;padding-right: 0.2em;padding-left: 0.2em;position: relative;}#sk-container-id-1 div.sk-item {position: relative;z-index: 1;}#sk-container-id-1 div.sk-parallel {display: flex;align-items: stretch;justify-content: center;background-color: white;position: relative;}#sk-container-id-1 div.sk-item::before, #sk-container-id-1 div.sk-parallel-item::before {content: \"\";position: absolute;border-left: 1px solid gray;box-sizing: border-box;top: 0;bottom: 0;left: 50%;z-index: -1;}#sk-container-id-1 div.sk-parallel-item {display: flex;flex-direction: column;z-index: 1;position: relative;background-color: white;}#sk-container-id-1 div.sk-parallel-item:first-child::after {align-self: flex-end;width: 50%;}#sk-container-id-1 div.sk-parallel-item:last-child::after {align-self: flex-start;width: 50%;}#sk-container-id-1 div.sk-parallel-item:only-child::after {width: 0;}#sk-container-id-1 div.sk-dashed-wrapped {border: 1px dashed gray;margin: 0 0.4em 0.5em 0.4em;box-sizing: border-box;padding-bottom: 0.4em;background-color: white;}#sk-container-id-1 div.sk-label label {font-family: monospace;font-weight: bold;display: inline-block;line-height: 1.2em;}#sk-container-id-1 div.sk-label-container {text-align: center;}#sk-container-id-1 div.sk-container {/* jupyter's `normalize.less` sets `[hidden] { display: none; }` but bootstrap.min.css set `[hidden] { display: none !important; }` so we also need the `!important` here to be able to override the default hidden behavior on the sphinx rendered scikit-learn.org. See: https://github.com/scikit-learn/scikit-learn/issues/21755 */display: inline-block !important;position: relative;}#sk-container-id-1 div.sk-text-repr-fallback {display: none;}</style><div id=\"sk-container-id-1\" class=\"sk-top-container\"><div class=\"sk-text-repr-fallback\"><pre>KNeighborsClassifier(n_neighbors=10)</pre><b>In a Jupyter environment, please rerun this cell to show the HTML representation or trust the notebook. <br />On GitHub, the HTML representation is unable to render, please try loading this page with nbviewer.org.</b></div><div class=\"sk-container\" hidden><div class=\"sk-item\"><div class=\"sk-estimator sk-toggleable\"><input class=\"sk-toggleable__control sk-hidden--visually\" id=\"sk-estimator-id-1\" type=\"checkbox\" checked><label for=\"sk-estimator-id-1\" class=\"sk-toggleable__label sk-toggleable__label-arrow\">KNeighborsClassifier</label><div class=\"sk-toggleable__content\"><pre>KNeighborsClassifier(n_neighbors=10)</pre></div></div></div></div></div>"
      ],
      "text/plain": [
       "KNeighborsClassifier(n_neighbors=10)"
      ]
     },
     "execution_count": 65,
     "metadata": {},
     "output_type": "execute_result"
    }
   ],
   "source": [
    "from sklearn.model_selection import StratifiedKFold\n",
    "\n",
    "# Define models\n",
    "tree = DecisionTreeClassifier(max_depth=5)\n",
    "knn = KNeighborsClassifier(n_neighbors=10)\n",
    "\n",
    "# Fit models\n",
    "tree.fit(X_train_scaled, y_train)\n",
    "\n",
    "knn.fit(X_train_scaled, y_train)"
   ]
  },
  {
   "cell_type": "markdown",
   "id": "73c2b541",
   "metadata": {},
   "source": [
    "Let's assess prediction quality on our hold-out set with a simple metric, the proportion of correct answers (accuracy)."
   ]
  },
  {
   "cell_type": "code",
   "execution_count": 66,
   "id": "ad538472",
   "metadata": {},
   "outputs": [
    {
     "data": {
      "text/plain": [
       "0.7638795986622073"
      ]
     },
     "execution_count": 66,
     "metadata": {},
     "output_type": "execute_result"
    }
   ],
   "source": [
    "# Evaluate the accuracy score matrix\n",
    "\n",
    "tree_pred = tree.predict(X_test_scaled)\n",
    "accuracy_score(y_test, tree_pred) "
   ]
  },
  {
   "cell_type": "code",
   "execution_count": 67,
   "id": "0f6dcb36",
   "metadata": {},
   "outputs": [
    {
     "data": {
      "text/plain": [
       "0.7464882943143812"
      ]
     },
     "execution_count": 67,
     "metadata": {},
     "output_type": "execute_result"
    }
   ],
   "source": [
    "# Evaluate the accuracy score matrix\n",
    "\n",
    "knn_pred = knn.predict(X_test_scaled)\n",
    "accuracy_score(y_test, knn_pred)"
   ]
  },
  {
   "cell_type": "markdown",
   "id": "130111b7",
   "metadata": {},
   "source": [
    "The decision tree did better: the percentage of correct answers is about 76.4% (decision tree) versus 74.6% (k-NN). Note that this performance is achieved by using random parameters.\n"
   ]
  },
  {
   "cell_type": "markdown",
   "id": "9e052788",
   "metadata": {},
   "source": [
    "### Hyperparameter Tuning\n",
    "Now, let's identify the parameters for the tree using cross-validation. We'll tune the maximum depth and the maximum number of features used at each split. Here is the essence of how the GridSearchCV works: for each unique pair of values of max_depth and max_features, compute model performance with 5-fold cross-validation, and then select the best combination of parameters."
   ]
  },
  {
   "cell_type": "code",
   "execution_count": 68,
   "id": "8018fdd1",
   "metadata": {},
   "outputs": [
    {
     "name": "stdout",
     "output_type": "stream",
     "text": [
      "Fitting 5 folds for each of 600 candidates, totalling 3000 fits\n"
     ]
    },
    {
     "data": {
      "text/html": [
       "<style>#sk-container-id-2 {color: black;background-color: white;}#sk-container-id-2 pre{padding: 0;}#sk-container-id-2 div.sk-toggleable {background-color: white;}#sk-container-id-2 label.sk-toggleable__label {cursor: pointer;display: block;width: 100%;margin-bottom: 0;padding: 0.3em;box-sizing: border-box;text-align: center;}#sk-container-id-2 label.sk-toggleable__label-arrow:before {content: \"▸\";float: left;margin-right: 0.25em;color: #696969;}#sk-container-id-2 label.sk-toggleable__label-arrow:hover:before {color: black;}#sk-container-id-2 div.sk-estimator:hover label.sk-toggleable__label-arrow:before {color: black;}#sk-container-id-2 div.sk-toggleable__content {max-height: 0;max-width: 0;overflow: hidden;text-align: left;background-color: #f0f8ff;}#sk-container-id-2 div.sk-toggleable__content pre {margin: 0.2em;color: black;border-radius: 0.25em;background-color: #f0f8ff;}#sk-container-id-2 input.sk-toggleable__control:checked~div.sk-toggleable__content {max-height: 200px;max-width: 100%;overflow: auto;}#sk-container-id-2 input.sk-toggleable__control:checked~label.sk-toggleable__label-arrow:before {content: \"▾\";}#sk-container-id-2 div.sk-estimator input.sk-toggleable__control:checked~label.sk-toggleable__label {background-color: #d4ebff;}#sk-container-id-2 div.sk-label input.sk-toggleable__control:checked~label.sk-toggleable__label {background-color: #d4ebff;}#sk-container-id-2 input.sk-hidden--visually {border: 0;clip: rect(1px 1px 1px 1px);clip: rect(1px, 1px, 1px, 1px);height: 1px;margin: -1px;overflow: hidden;padding: 0;position: absolute;width: 1px;}#sk-container-id-2 div.sk-estimator {font-family: monospace;background-color: #f0f8ff;border: 1px dotted black;border-radius: 0.25em;box-sizing: border-box;margin-bottom: 0.5em;}#sk-container-id-2 div.sk-estimator:hover {background-color: #d4ebff;}#sk-container-id-2 div.sk-parallel-item::after {content: \"\";width: 100%;border-bottom: 1px solid gray;flex-grow: 1;}#sk-container-id-2 div.sk-label:hover label.sk-toggleable__label {background-color: #d4ebff;}#sk-container-id-2 div.sk-serial::before {content: \"\";position: absolute;border-left: 1px solid gray;box-sizing: border-box;top: 0;bottom: 0;left: 50%;z-index: 0;}#sk-container-id-2 div.sk-serial {display: flex;flex-direction: column;align-items: center;background-color: white;padding-right: 0.2em;padding-left: 0.2em;position: relative;}#sk-container-id-2 div.sk-item {position: relative;z-index: 1;}#sk-container-id-2 div.sk-parallel {display: flex;align-items: stretch;justify-content: center;background-color: white;position: relative;}#sk-container-id-2 div.sk-item::before, #sk-container-id-2 div.sk-parallel-item::before {content: \"\";position: absolute;border-left: 1px solid gray;box-sizing: border-box;top: 0;bottom: 0;left: 50%;z-index: -1;}#sk-container-id-2 div.sk-parallel-item {display: flex;flex-direction: column;z-index: 1;position: relative;background-color: white;}#sk-container-id-2 div.sk-parallel-item:first-child::after {align-self: flex-end;width: 50%;}#sk-container-id-2 div.sk-parallel-item:last-child::after {align-self: flex-start;width: 50%;}#sk-container-id-2 div.sk-parallel-item:only-child::after {width: 0;}#sk-container-id-2 div.sk-dashed-wrapped {border: 1px dashed gray;margin: 0 0.4em 0.5em 0.4em;box-sizing: border-box;padding-bottom: 0.4em;background-color: white;}#sk-container-id-2 div.sk-label label {font-family: monospace;font-weight: bold;display: inline-block;line-height: 1.2em;}#sk-container-id-2 div.sk-label-container {text-align: center;}#sk-container-id-2 div.sk-container {/* jupyter's `normalize.less` sets `[hidden] { display: none; }` but bootstrap.min.css set `[hidden] { display: none !important; }` so we also need the `!important` here to be able to override the default hidden behavior on the sphinx rendered scikit-learn.org. See: https://github.com/scikit-learn/scikit-learn/issues/21755 */display: inline-block !important;position: relative;}#sk-container-id-2 div.sk-text-repr-fallback {display: none;}</style><div id=\"sk-container-id-2\" class=\"sk-top-container\"><div class=\"sk-text-repr-fallback\"><pre>GridSearchCV(cv=5, estimator=DecisionTreeClassifier(max_depth=5), n_jobs=-1,\n",
       "             param_grid={&#x27;max_depth&#x27;: range(1, 11),\n",
       "                         &#x27;max_features&#x27;: range(4, 19),\n",
       "                         &#x27;min_samples_split&#x27;: range(3, 7)},\n",
       "             verbose=True)</pre><b>In a Jupyter environment, please rerun this cell to show the HTML representation or trust the notebook. <br />On GitHub, the HTML representation is unable to render, please try loading this page with nbviewer.org.</b></div><div class=\"sk-container\" hidden><div class=\"sk-item sk-dashed-wrapped\"><div class=\"sk-label-container\"><div class=\"sk-label sk-toggleable\"><input class=\"sk-toggleable__control sk-hidden--visually\" id=\"sk-estimator-id-2\" type=\"checkbox\" ><label for=\"sk-estimator-id-2\" class=\"sk-toggleable__label sk-toggleable__label-arrow\">GridSearchCV</label><div class=\"sk-toggleable__content\"><pre>GridSearchCV(cv=5, estimator=DecisionTreeClassifier(max_depth=5), n_jobs=-1,\n",
       "             param_grid={&#x27;max_depth&#x27;: range(1, 11),\n",
       "                         &#x27;max_features&#x27;: range(4, 19),\n",
       "                         &#x27;min_samples_split&#x27;: range(3, 7)},\n",
       "             verbose=True)</pre></div></div></div><div class=\"sk-parallel\"><div class=\"sk-parallel-item\"><div class=\"sk-item\"><div class=\"sk-label-container\"><div class=\"sk-label sk-toggleable\"><input class=\"sk-toggleable__control sk-hidden--visually\" id=\"sk-estimator-id-3\" type=\"checkbox\" ><label for=\"sk-estimator-id-3\" class=\"sk-toggleable__label sk-toggleable__label-arrow\">estimator: DecisionTreeClassifier</label><div class=\"sk-toggleable__content\"><pre>DecisionTreeClassifier(max_depth=5)</pre></div></div></div><div class=\"sk-serial\"><div class=\"sk-item\"><div class=\"sk-estimator sk-toggleable\"><input class=\"sk-toggleable__control sk-hidden--visually\" id=\"sk-estimator-id-4\" type=\"checkbox\" ><label for=\"sk-estimator-id-4\" class=\"sk-toggleable__label sk-toggleable__label-arrow\">DecisionTreeClassifier</label><div class=\"sk-toggleable__content\"><pre>DecisionTreeClassifier(max_depth=5)</pre></div></div></div></div></div></div></div></div></div></div>"
      ],
      "text/plain": [
       "GridSearchCV(cv=5, estimator=DecisionTreeClassifier(max_depth=5), n_jobs=-1,\n",
       "             param_grid={'max_depth': range(1, 11),\n",
       "                         'max_features': range(4, 19),\n",
       "                         'min_samples_split': range(3, 7)},\n",
       "             verbose=True)"
      ]
     },
     "execution_count": 68,
     "metadata": {},
     "output_type": "execute_result"
    }
   ],
   "source": [
    "from sklearn.model_selection import GridSearchCV, cross_val_score\n",
    "\n",
    "tree_params = {\"max_depth\": range(1, 11), \"min_samples_split\": range(3, 7), \"max_features\": range(4, 19)}\n",
    "\n",
    "tree_grid = GridSearchCV(tree, tree_params, cv=5, n_jobs=-1, verbose=True)\n",
    "\n",
    "tree_grid.fit(X_train_scaled, y_train)"
   ]
  },
  {
   "cell_type": "code",
   "execution_count": 69,
   "id": "5bab5fd0",
   "metadata": {},
   "outputs": [
    {
     "data": {
      "text/html": [
       "<style>#sk-container-id-3 {color: black;background-color: white;}#sk-container-id-3 pre{padding: 0;}#sk-container-id-3 div.sk-toggleable {background-color: white;}#sk-container-id-3 label.sk-toggleable__label {cursor: pointer;display: block;width: 100%;margin-bottom: 0;padding: 0.3em;box-sizing: border-box;text-align: center;}#sk-container-id-3 label.sk-toggleable__label-arrow:before {content: \"▸\";float: left;margin-right: 0.25em;color: #696969;}#sk-container-id-3 label.sk-toggleable__label-arrow:hover:before {color: black;}#sk-container-id-3 div.sk-estimator:hover label.sk-toggleable__label-arrow:before {color: black;}#sk-container-id-3 div.sk-toggleable__content {max-height: 0;max-width: 0;overflow: hidden;text-align: left;background-color: #f0f8ff;}#sk-container-id-3 div.sk-toggleable__content pre {margin: 0.2em;color: black;border-radius: 0.25em;background-color: #f0f8ff;}#sk-container-id-3 input.sk-toggleable__control:checked~div.sk-toggleable__content {max-height: 200px;max-width: 100%;overflow: auto;}#sk-container-id-3 input.sk-toggleable__control:checked~label.sk-toggleable__label-arrow:before {content: \"▾\";}#sk-container-id-3 div.sk-estimator input.sk-toggleable__control:checked~label.sk-toggleable__label {background-color: #d4ebff;}#sk-container-id-3 div.sk-label input.sk-toggleable__control:checked~label.sk-toggleable__label {background-color: #d4ebff;}#sk-container-id-3 input.sk-hidden--visually {border: 0;clip: rect(1px 1px 1px 1px);clip: rect(1px, 1px, 1px, 1px);height: 1px;margin: -1px;overflow: hidden;padding: 0;position: absolute;width: 1px;}#sk-container-id-3 div.sk-estimator {font-family: monospace;background-color: #f0f8ff;border: 1px dotted black;border-radius: 0.25em;box-sizing: border-box;margin-bottom: 0.5em;}#sk-container-id-3 div.sk-estimator:hover {background-color: #d4ebff;}#sk-container-id-3 div.sk-parallel-item::after {content: \"\";width: 100%;border-bottom: 1px solid gray;flex-grow: 1;}#sk-container-id-3 div.sk-label:hover label.sk-toggleable__label {background-color: #d4ebff;}#sk-container-id-3 div.sk-serial::before {content: \"\";position: absolute;border-left: 1px solid gray;box-sizing: border-box;top: 0;bottom: 0;left: 50%;z-index: 0;}#sk-container-id-3 div.sk-serial {display: flex;flex-direction: column;align-items: center;background-color: white;padding-right: 0.2em;padding-left: 0.2em;position: relative;}#sk-container-id-3 div.sk-item {position: relative;z-index: 1;}#sk-container-id-3 div.sk-parallel {display: flex;align-items: stretch;justify-content: center;background-color: white;position: relative;}#sk-container-id-3 div.sk-item::before, #sk-container-id-3 div.sk-parallel-item::before {content: \"\";position: absolute;border-left: 1px solid gray;box-sizing: border-box;top: 0;bottom: 0;left: 50%;z-index: -1;}#sk-container-id-3 div.sk-parallel-item {display: flex;flex-direction: column;z-index: 1;position: relative;background-color: white;}#sk-container-id-3 div.sk-parallel-item:first-child::after {align-self: flex-end;width: 50%;}#sk-container-id-3 div.sk-parallel-item:last-child::after {align-self: flex-start;width: 50%;}#sk-container-id-3 div.sk-parallel-item:only-child::after {width: 0;}#sk-container-id-3 div.sk-dashed-wrapped {border: 1px dashed gray;margin: 0 0.4em 0.5em 0.4em;box-sizing: border-box;padding-bottom: 0.4em;background-color: white;}#sk-container-id-3 div.sk-label label {font-family: monospace;font-weight: bold;display: inline-block;line-height: 1.2em;}#sk-container-id-3 div.sk-label-container {text-align: center;}#sk-container-id-3 div.sk-container {/* jupyter's `normalize.less` sets `[hidden] { display: none; }` but bootstrap.min.css set `[hidden] { display: none !important; }` so we also need the `!important` here to be able to override the default hidden behavior on the sphinx rendered scikit-learn.org. See: https://github.com/scikit-learn/scikit-learn/issues/21755 */display: inline-block !important;position: relative;}#sk-container-id-3 div.sk-text-repr-fallback {display: none;}</style><div id=\"sk-container-id-3\" class=\"sk-top-container\"><div class=\"sk-text-repr-fallback\"><pre>GridSearchCV(cv=5,\n",
       "             estimator=DecisionTreeClassifier(max_depth=5, random_state=17),\n",
       "             n_jobs=-1,\n",
       "             param_grid={&#x27;max_depth&#x27;: range(1, 11),\n",
       "                         &#x27;max_features&#x27;: range(4, 19),\n",
       "                         &#x27;min_samples_split&#x27;: range(3, 7)},\n",
       "             verbose=True)</pre><b>In a Jupyter environment, please rerun this cell to show the HTML representation or trust the notebook. <br />On GitHub, the HTML representation is unable to render, please try loading this page with nbviewer.org.</b></div><div class=\"sk-container\" hidden><div class=\"sk-item sk-dashed-wrapped\"><div class=\"sk-label-container\"><div class=\"sk-label sk-toggleable\"><input class=\"sk-toggleable__control sk-hidden--visually\" id=\"sk-estimator-id-5\" type=\"checkbox\" ><label for=\"sk-estimator-id-5\" class=\"sk-toggleable__label sk-toggleable__label-arrow\">GridSearchCV</label><div class=\"sk-toggleable__content\"><pre>GridSearchCV(cv=5,\n",
       "             estimator=DecisionTreeClassifier(max_depth=5, random_state=17),\n",
       "             n_jobs=-1,\n",
       "             param_grid={&#x27;max_depth&#x27;: range(1, 11),\n",
       "                         &#x27;max_features&#x27;: range(4, 19),\n",
       "                         &#x27;min_samples_split&#x27;: range(3, 7)},\n",
       "             verbose=True)</pre></div></div></div><div class=\"sk-parallel\"><div class=\"sk-parallel-item\"><div class=\"sk-item\"><div class=\"sk-label-container\"><div class=\"sk-label sk-toggleable\"><input class=\"sk-toggleable__control sk-hidden--visually\" id=\"sk-estimator-id-6\" type=\"checkbox\" ><label for=\"sk-estimator-id-6\" class=\"sk-toggleable__label sk-toggleable__label-arrow\">estimator: DecisionTreeClassifier</label><div class=\"sk-toggleable__content\"><pre>DecisionTreeClassifier(max_depth=5, random_state=17)</pre></div></div></div><div class=\"sk-serial\"><div class=\"sk-item\"><div class=\"sk-estimator sk-toggleable\"><input class=\"sk-toggleable__control sk-hidden--visually\" id=\"sk-estimator-id-7\" type=\"checkbox\" ><label for=\"sk-estimator-id-7\" class=\"sk-toggleable__label sk-toggleable__label-arrow\">DecisionTreeClassifier</label><div class=\"sk-toggleable__content\"><pre>DecisionTreeClassifier(max_depth=5, random_state=17)</pre></div></div></div></div></div></div></div></div></div></div>"
      ],
      "text/plain": [
       "GridSearchCV(cv=5,\n",
       "             estimator=DecisionTreeClassifier(max_depth=5, random_state=17),\n",
       "             n_jobs=-1,\n",
       "             param_grid={'max_depth': range(1, 11),\n",
       "                         'max_features': range(4, 19),\n",
       "                         'min_samples_split': range(3, 7)},\n",
       "             verbose=True)"
      ]
     },
     "execution_count": 69,
     "metadata": {},
     "output_type": "execute_result"
    }
   ],
   "source": [
    "GridSearchCV(cv=5,\n",
    "             estimator=DecisionTreeClassifier(max_depth=5, random_state=17),\n",
    "             n_jobs=-1,\n",
    "             param_grid={'max_depth': range(1, 11),\n",
    "                         'min_samples_split': range(3, 7), \"max_features\": range(4, 19)},\n",
    "             verbose=True)"
   ]
  },
  {
   "cell_type": "markdown",
   "id": "b8e04018",
   "metadata": {},
   "source": [
    "Let's list the best parameters and the corresponding mean accuracy from cross-validation."
   ]
  },
  {
   "cell_type": "code",
   "execution_count": 70,
   "id": "4ed3c5da",
   "metadata": {},
   "outputs": [
    {
     "data": {
      "text/plain": [
       "{'max_depth': 10, 'max_features': 4, 'min_samples_split': 5}"
      ]
     },
     "execution_count": 70,
     "metadata": {},
     "output_type": "execute_result"
    }
   ],
   "source": [
    "tree_grid.best_params_"
   ]
  },
  {
   "cell_type": "code",
   "execution_count": 71,
   "id": "37e6a2aa",
   "metadata": {},
   "outputs": [
    {
     "data": {
      "text/plain": [
       "0.7597849176473881"
      ]
     },
     "execution_count": 71,
     "metadata": {},
     "output_type": "execute_result"
    }
   ],
   "source": [
    "tree_grid.best_score_"
   ]
  },
  {
   "cell_type": "code",
   "execution_count": 72,
   "id": "2ea3d092",
   "metadata": {},
   "outputs": [
    {
     "data": {
      "text/plain": [
       "0.7625418060200669"
      ]
     },
     "execution_count": 72,
     "metadata": {},
     "output_type": "execute_result"
    }
   ],
   "source": [
    "accuracy_score(y_test, tree_grid.predict(X_test_scaled))"
   ]
  },
  {
   "cell_type": "code",
   "execution_count": null,
   "id": "f195e05a",
   "metadata": {},
   "outputs": [],
   "source": []
  },
  {
   "cell_type": "markdown",
   "id": "1f1a42e4",
   "metadata": {},
   "source": [
    "Now, let's tune the number of neighbors for k-NN:"
   ]
  },
  {
   "cell_type": "code",
   "execution_count": 73,
   "id": "2aed7730",
   "metadata": {},
   "outputs": [
    {
     "name": "stdout",
     "output_type": "stream",
     "text": [
      "Fitting 5 folds for each of 9 candidates, totalling 45 fits\n"
     ]
    },
    {
     "data": {
      "text/plain": [
       "({'knn__n_neighbors': 7}, 0.7515905179048712)"
      ]
     },
     "execution_count": 73,
     "metadata": {},
     "output_type": "execute_result"
    }
   ],
   "source": [
    "from sklearn.pipeline import Pipeline\n",
    "\n",
    "knn_pipe = Pipeline(\n",
    "    [(\"scaler\", StandardScaler()), (\"knn\", KNeighborsClassifier(n_jobs=-1))]\n",
    ")\n",
    "\n",
    "knn_params = {\"knn__n_neighbors\": range(1, 10)}\n",
    "\n",
    "knn_grid = GridSearchCV(knn_pipe, knn_params, cv=5, n_jobs=-1, verbose=True)\n",
    "\n",
    "knn_grid.fit(X_train_scaled, y_train)\n",
    "\n",
    "knn_grid.best_params_, knn_grid.best_score_"
   ]
  },
  {
   "cell_type": "code",
   "execution_count": 74,
   "id": "70d0abb5",
   "metadata": {},
   "outputs": [
    {
     "data": {
      "text/plain": [
       "0.7511705685618729"
      ]
     },
     "execution_count": 74,
     "metadata": {},
     "output_type": "execute_result"
    }
   ],
   "source": [
    "accuracy_score(y_test, knn_grid.predict(X_test_scaled)) "
   ]
  },
  {
   "cell_type": "markdown",
   "id": "36064d24",
   "metadata": {},
   "source": [
    "Here, the tree proved to be better than the nearest neighbors algorithm: 75.9%/76.2% accuracy for cross-validation and hold-out respectively."
   ]
  },
  {
   "cell_type": "markdown",
   "id": "7a885d1a",
   "metadata": {},
   "source": [
    "Next let's train for the random forest model"
   ]
  },
  {
   "cell_type": "code",
   "execution_count": 75,
   "id": "500f1e27",
   "metadata": {},
   "outputs": [
    {
     "name": "stdout",
     "output_type": "stream",
     "text": [
      "0.7587818530387205\n"
     ]
    }
   ],
   "source": [
    "# RandomForestClassifier\n",
    "\n",
    "from sklearn.ensemble import RandomForestClassifier\n",
    "\n",
    "forest = RandomForestClassifier(n_estimators=100, n_jobs=-1, random_state=17)\n",
    "print(np.mean(cross_val_score(forest, X_train_scaled, y_train, cv=5)))"
   ]
  },
  {
   "cell_type": "code",
   "execution_count": 76,
   "id": "e220d125",
   "metadata": {},
   "outputs": [
    {
     "name": "stdout",
     "output_type": "stream",
     "text": [
      "Fitting 5 folds for each of 90 candidates, totalling 450 fits\n"
     ]
    },
    {
     "data": {
      "text/plain": [
       "({'max_depth': 10, 'max_features': 4}, 0.7586146289584529)"
      ]
     },
     "execution_count": 76,
     "metadata": {},
     "output_type": "execute_result"
    }
   ],
   "source": [
    "forest_params = {\"max_depth\": range(6, 12), \"max_features\": range(4, 19)}\n",
    "\n",
    "forest_grid = GridSearchCV(forest, forest_params, cv=5, n_jobs=-1, verbose=1)\n",
    "\n",
    "forest_grid.fit(X_train_scaled, y_train)\n",
    "\n",
    "forest_grid.best_params_, forest_grid.best_score_"
   ]
  },
  {
   "cell_type": "code",
   "execution_count": 77,
   "id": "082c8dd9",
   "metadata": {},
   "outputs": [
    {
     "data": {
      "text/plain": [
       "0.7638795986622073"
      ]
     },
     "execution_count": 77,
     "metadata": {},
     "output_type": "execute_result"
    }
   ],
   "source": [
    "accuracy_score(y_test, forest_grid.predict(X_test_scaled))"
   ]
  },
  {
   "cell_type": "markdown",
   "id": "8008d972",
   "metadata": {},
   "source": [
    "Decision trees perform very well, and even random forest (let's think of it for now as a bunch of trees that work better together) in this it cannot achieve much better performance (75.9%/76.4%) despite being trained for much longer."
   ]
  },
  {
   "cell_type": "markdown",
   "id": "02345056",
   "metadata": {},
   "source": [
    "Let's check to see if there is one AI Mood category that is dominating the entire dataset, so lets calculate what proportion of the dataset are 1's, 2's, 3's, 4's and 5's."
   ]
  },
  {
   "cell_type": "code",
   "execution_count": 78,
   "id": "0c00945a",
   "metadata": {},
   "outputs": [
    {
     "name": "stdout",
     "output_type": "stream",
     "text": [
      "Proportion of Moods that are 1: 0.008997147245995173\n",
      "Proportion of Moods that are 2: 0.048935703313583497\n",
      "Proportion of Moods that are 3: 0.7259161729207813\n",
      "Proportion of Moods that are 4: 0.12080315997366689\n",
      "Proportion of Moods that are 5: 0.09534781654597323\n"
     ]
    }
   ],
   "source": [
    "total = 0\n",
    "moods = [0, 0, 0, 0, 0]\n",
    "\n",
    "# Here we just sum up the number of articles of each mood\n",
    "for i in Mood:\n",
    "    total += 1\n",
    "    moods[i-1] += 1\n",
    "    \n",
    "print(\"Proportion of Moods that are 1: \" + str(moods[0] / total))\n",
    "print(\"Proportion of Moods that are 2: \" + str(moods[1] / total))\n",
    "print(\"Proportion of Moods that are 3: \" + str(moods[2] / total))\n",
    "print(\"Proportion of Moods that are 4: \" + str(moods[3] / total))\n",
    "print(\"Proportion of Moods that are 5: \" + str(moods[4] / total))"
   ]
  },
  {
   "cell_type": "markdown",
   "id": "a0808445",
   "metadata": {},
   "source": [
    "We can see that there is a somewhat dominant strategy for a potential Machine Learning Algorithm to simply choose 3 as the AI Mood for every single article, which would give it an accuracy of around 72.6%. If we look at our Voting classifier, it has an accuracy of around 76.3%, which means it is not simply using that dominant strategy, which is good. However, our accuracy still isn't very good. Why is this? One possibility is that our dataset simply isn't great for this kind of machine learning analysis. If we look at the dataset there are many articles that only have a single topic as a one, with all other topics being a 0. In fact, there are some articles that have a 0 for everything. We also, of course, have an overabundance of 3's in our model, which may also be hurting our algorithm, because the dataset doesn't have enough diversity. However, the fact that our accuracy is above the dominant strategy means that our algorithm is learning somewhat."
   ]
  },
  {
   "cell_type": "code",
   "execution_count": null,
   "id": "6e1bfc4f",
   "metadata": {},
   "outputs": [],
   "source": []
  }
 ],
 "metadata": {
  "kernelspec": {
   "display_name": "Python 3 (ipykernel)",
   "language": "python",
   "name": "python3"
  },
  "language_info": {
   "codemirror_mode": {
    "name": "ipython",
    "version": 3
   },
   "file_extension": ".py",
   "mimetype": "text/x-python",
   "name": "python",
   "nbconvert_exporter": "python",
   "pygments_lexer": "ipython3",
   "version": "3.8.11"
  }
 },
 "nbformat": 4,
 "nbformat_minor": 5
}
